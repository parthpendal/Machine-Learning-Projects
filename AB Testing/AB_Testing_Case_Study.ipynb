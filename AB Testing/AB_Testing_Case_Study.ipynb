{
  "nbformat": 4,
  "nbformat_minor": 0,
  "metadata": {
    "colab": {
      "name": "AB Testing Case Study.ipynb",
      "provenance": [],
      "collapsed_sections": [],
      "authorship_tag": "ABX9TyNpYt4XBkITjw+L/6BRd+p6",
      "include_colab_link": true
    },
    "kernelspec": {
      "name": "python3",
      "display_name": "Python 3"
    },
    "language_info": {
      "name": "python"
    }
  },
  "cells": [
    {
      "cell_type": "markdown",
      "metadata": {
        "id": "view-in-github",
        "colab_type": "text"
      },
      "source": [
        "<a href=\"https://colab.research.google.com/github/parthpendal/Machine-Learning-Projects/blob/main/AB_Testing_Case_Study.ipynb\" target=\"_parent\"><img src=\"https://colab.research.google.com/assets/colab-badge.svg\" alt=\"Open In Colab\"/></a>"
      ]
    },
    {
      "cell_type": "code",
      "metadata": {
        "id": "JG2oZ0hvANJ8"
      },
      "source": [
        "# Importing libraries\n",
        "import pandas as pd\n",
        "import numpy as np\n",
        "import matplotlib.pyplot as plt\n",
        "import seaborn as sns\n",
        "from statsmodels.stats.proportion import proportions_ztest,proportion_confint\n",
        "import scipy.stats as st"
      ],
      "execution_count": null,
      "outputs": []
    },
    {
      "cell_type": "markdown",
      "metadata": {
        "id": "N1xhfMj6d2iL"
      },
      "source": [
        "# Loading, cleaning and analyzing file df_final_demo.txt"
      ]
    },
    {
      "cell_type": "code",
      "metadata": {
        "colab": {
          "base_uri": "https://localhost:8080/"
        },
        "id": "sHehZ5BLAuzE",
        "outputId": "c02ea9f5-e3f9-47a5-bc5a-b714a7975789"
      },
      "source": [
        "# Loading file to the dataframe\n",
        "df_final_demo=pd.read_csv(\"df_final_demo.txt\")\n",
        "print(df_final_demo.head())\n",
        "print(df_final_demo.shape)"
      ],
      "execution_count": null,
      "outputs": [
        {
          "output_type": "stream",
          "name": "stdout",
          "text": [
            "   client_id  clnt_tenure_yr  ...  calls_6_mnth  logons_6_mnth\n",
            "0     836976             6.0  ...           6.0            9.0\n",
            "1    2304905             7.0  ...           6.0            9.0\n",
            "2    1439522             5.0  ...           6.0            9.0\n",
            "3    1562045            16.0  ...           3.0            6.0\n",
            "4    5126305            12.0  ...           0.0            3.0\n",
            "\n",
            "[5 rows x 9 columns]\n",
            "(70609, 9)\n"
          ]
        }
      ]
    },
    {
      "cell_type": "code",
      "metadata": {
        "colab": {
          "base_uri": "https://localhost:8080/"
        },
        "id": "zmND4IOLgN7r",
        "outputId": "002ba2d7-548d-4328-db26-f8c9952a66a0"
      },
      "source": [
        "#Checking how may values are na and see if they are significantly high\n",
        "df_final_demo.isna().sum()"
      ],
      "execution_count": null,
      "outputs": [
        {
          "output_type": "execute_result",
          "data": {
            "text/plain": [
              "client_id            0\n",
              "clnt_tenure_yr      14\n",
              "clnt_tenure_mnth    14\n",
              "clnt_age            15\n",
              "gendr               14\n",
              "num_accts           14\n",
              "bal                 14\n",
              "calls_6_mnth        14\n",
              "logons_6_mnth       14\n",
              "dtype: int64"
            ]
          },
          "metadata": {},
          "execution_count": 3
        }
      ]
    },
    {
      "cell_type": "code",
      "metadata": {
        "colab": {
          "base_uri": "https://localhost:8080/"
        },
        "id": "1ifZWJ4JdcS7",
        "outputId": "d9b7e3b5-8474-4fe8-d101-45c9fa762228"
      },
      "source": [
        "#We will not remove these records since they have records in control and test group. \n",
        "#Also, count is NOT significantly high compared to the record counts.\n",
        "df_final_demo[df_final_demo.bal.isnull()]"
      ],
      "execution_count": null,
      "outputs": [
        {
          "output_type": "execute_result",
          "data": {
            "text/html": [
              "<div>\n",
              "<style scoped>\n",
              "    .dataframe tbody tr th:only-of-type {\n",
              "        vertical-align: middle;\n",
              "    }\n",
              "\n",
              "    .dataframe tbody tr th {\n",
              "        vertical-align: top;\n",
              "    }\n",
              "\n",
              "    .dataframe thead th {\n",
              "        text-align: right;\n",
              "    }\n",
              "</style>\n",
              "<table border=\"1\" class=\"dataframe\">\n",
              "  <thead>\n",
              "    <tr style=\"text-align: right;\">\n",
              "      <th></th>\n",
              "      <th>client_id</th>\n",
              "      <th>clnt_tenure_yr</th>\n",
              "      <th>clnt_tenure_mnth</th>\n",
              "      <th>clnt_age</th>\n",
              "      <th>gendr</th>\n",
              "      <th>num_accts</th>\n",
              "      <th>bal</th>\n",
              "      <th>calls_6_mnth</th>\n",
              "      <th>logons_6_mnth</th>\n",
              "    </tr>\n",
              "  </thead>\n",
              "  <tbody>\n",
              "    <tr>\n",
              "      <th>4164</th>\n",
              "      <td>7402828</td>\n",
              "      <td>NaN</td>\n",
              "      <td>NaN</td>\n",
              "      <td>NaN</td>\n",
              "      <td>NaN</td>\n",
              "      <td>NaN</td>\n",
              "      <td>NaN</td>\n",
              "      <td>NaN</td>\n",
              "      <td>NaN</td>\n",
              "    </tr>\n",
              "    <tr>\n",
              "      <th>8316</th>\n",
              "      <td>355337</td>\n",
              "      <td>NaN</td>\n",
              "      <td>NaN</td>\n",
              "      <td>NaN</td>\n",
              "      <td>NaN</td>\n",
              "      <td>NaN</td>\n",
              "      <td>NaN</td>\n",
              "      <td>NaN</td>\n",
              "      <td>NaN</td>\n",
              "    </tr>\n",
              "    <tr>\n",
              "      <th>8677</th>\n",
              "      <td>8412164</td>\n",
              "      <td>NaN</td>\n",
              "      <td>NaN</td>\n",
              "      <td>NaN</td>\n",
              "      <td>NaN</td>\n",
              "      <td>NaN</td>\n",
              "      <td>NaN</td>\n",
              "      <td>NaN</td>\n",
              "      <td>NaN</td>\n",
              "    </tr>\n",
              "    <tr>\n",
              "      <th>13444</th>\n",
              "      <td>2222915</td>\n",
              "      <td>NaN</td>\n",
              "      <td>NaN</td>\n",
              "      <td>NaN</td>\n",
              "      <td>NaN</td>\n",
              "      <td>NaN</td>\n",
              "      <td>NaN</td>\n",
              "      <td>NaN</td>\n",
              "      <td>NaN</td>\n",
              "    </tr>\n",
              "    <tr>\n",
              "      <th>18066</th>\n",
              "      <td>4876926</td>\n",
              "      <td>NaN</td>\n",
              "      <td>NaN</td>\n",
              "      <td>NaN</td>\n",
              "      <td>NaN</td>\n",
              "      <td>NaN</td>\n",
              "      <td>NaN</td>\n",
              "      <td>NaN</td>\n",
              "      <td>NaN</td>\n",
              "    </tr>\n",
              "    <tr>\n",
              "      <th>25961</th>\n",
              "      <td>5277910</td>\n",
              "      <td>NaN</td>\n",
              "      <td>NaN</td>\n",
              "      <td>NaN</td>\n",
              "      <td>NaN</td>\n",
              "      <td>NaN</td>\n",
              "      <td>NaN</td>\n",
              "      <td>NaN</td>\n",
              "      <td>NaN</td>\n",
              "    </tr>\n",
              "    <tr>\n",
              "      <th>28432</th>\n",
              "      <td>7616759</td>\n",
              "      <td>NaN</td>\n",
              "      <td>NaN</td>\n",
              "      <td>NaN</td>\n",
              "      <td>NaN</td>\n",
              "      <td>NaN</td>\n",
              "      <td>NaN</td>\n",
              "      <td>NaN</td>\n",
              "      <td>NaN</td>\n",
              "    </tr>\n",
              "    <tr>\n",
              "      <th>35323</th>\n",
              "      <td>8191345</td>\n",
              "      <td>NaN</td>\n",
              "      <td>NaN</td>\n",
              "      <td>NaN</td>\n",
              "      <td>NaN</td>\n",
              "      <td>NaN</td>\n",
              "      <td>NaN</td>\n",
              "      <td>NaN</td>\n",
              "      <td>NaN</td>\n",
              "    </tr>\n",
              "    <tr>\n",
              "      <th>43518</th>\n",
              "      <td>1227228</td>\n",
              "      <td>NaN</td>\n",
              "      <td>NaN</td>\n",
              "      <td>NaN</td>\n",
              "      <td>NaN</td>\n",
              "      <td>NaN</td>\n",
              "      <td>NaN</td>\n",
              "      <td>NaN</td>\n",
              "      <td>NaN</td>\n",
              "    </tr>\n",
              "    <tr>\n",
              "      <th>46076</th>\n",
              "      <td>8611797</td>\n",
              "      <td>NaN</td>\n",
              "      <td>NaN</td>\n",
              "      <td>NaN</td>\n",
              "      <td>NaN</td>\n",
              "      <td>NaN</td>\n",
              "      <td>NaN</td>\n",
              "      <td>NaN</td>\n",
              "      <td>NaN</td>\n",
              "    </tr>\n",
              "    <tr>\n",
              "      <th>47189</th>\n",
              "      <td>5144725</td>\n",
              "      <td>NaN</td>\n",
              "      <td>NaN</td>\n",
              "      <td>NaN</td>\n",
              "      <td>NaN</td>\n",
              "      <td>NaN</td>\n",
              "      <td>NaN</td>\n",
              "      <td>NaN</td>\n",
              "      <td>NaN</td>\n",
              "    </tr>\n",
              "    <tr>\n",
              "      <th>49846</th>\n",
              "      <td>1037867</td>\n",
              "      <td>NaN</td>\n",
              "      <td>NaN</td>\n",
              "      <td>NaN</td>\n",
              "      <td>NaN</td>\n",
              "      <td>NaN</td>\n",
              "      <td>NaN</td>\n",
              "      <td>NaN</td>\n",
              "      <td>NaN</td>\n",
              "    </tr>\n",
              "    <tr>\n",
              "      <th>63701</th>\n",
              "      <td>1618749</td>\n",
              "      <td>NaN</td>\n",
              "      <td>NaN</td>\n",
              "      <td>NaN</td>\n",
              "      <td>NaN</td>\n",
              "      <td>NaN</td>\n",
              "      <td>NaN</td>\n",
              "      <td>NaN</td>\n",
              "      <td>NaN</td>\n",
              "    </tr>\n",
              "    <tr>\n",
              "      <th>66219</th>\n",
              "      <td>6021001</td>\n",
              "      <td>NaN</td>\n",
              "      <td>NaN</td>\n",
              "      <td>NaN</td>\n",
              "      <td>NaN</td>\n",
              "      <td>NaN</td>\n",
              "      <td>NaN</td>\n",
              "      <td>NaN</td>\n",
              "      <td>NaN</td>\n",
              "    </tr>\n",
              "  </tbody>\n",
              "</table>\n",
              "</div>"
            ],
            "text/plain": [
              "       client_id  clnt_tenure_yr  ...  calls_6_mnth  logons_6_mnth\n",
              "4164     7402828             NaN  ...           NaN            NaN\n",
              "8316      355337             NaN  ...           NaN            NaN\n",
              "8677     8412164             NaN  ...           NaN            NaN\n",
              "13444    2222915             NaN  ...           NaN            NaN\n",
              "18066    4876926             NaN  ...           NaN            NaN\n",
              "25961    5277910             NaN  ...           NaN            NaN\n",
              "28432    7616759             NaN  ...           NaN            NaN\n",
              "35323    8191345             NaN  ...           NaN            NaN\n",
              "43518    1227228             NaN  ...           NaN            NaN\n",
              "46076    8611797             NaN  ...           NaN            NaN\n",
              "47189    5144725             NaN  ...           NaN            NaN\n",
              "49846    1037867             NaN  ...           NaN            NaN\n",
              "63701    1618749             NaN  ...           NaN            NaN\n",
              "66219    6021001             NaN  ...           NaN            NaN\n",
              "\n",
              "[14 rows x 9 columns]"
            ]
          },
          "metadata": {},
          "execution_count": 4
        }
      ]
    },
    {
      "cell_type": "code",
      "metadata": {
        "colab": {
          "base_uri": "https://localhost:8080/"
        },
        "id": "jpn6Lb-SbzM8",
        "outputId": "ebe8e39a-a54e-4f14-a23a-74993ceba7ae"
      },
      "source": [
        "# Analyzing possible incorrect value for Gender column and correcting them\n",
        "print(df_final_demo.gendr.value_counts(dropna=False))"
      ],
      "execution_count": null,
      "outputs": [
        {
          "output_type": "stream",
          "name": "stdout",
          "text": [
            "U      24122\n",
            "M      23724\n",
            "F      22746\n",
            "NaN       14\n",
            "X          3\n",
            "Name: gendr, dtype: int64\n"
          ]
        }
      ]
    },
    {
      "cell_type": "code",
      "metadata": {
        "colab": {
          "base_uri": "https://localhost:8080/"
        },
        "id": "m1asmxuSfth3",
        "outputId": "e8400a2a-173f-4145-aef3-209a35904e3a"
      },
      "source": [
        "#Replacing gender value X and nan with unknown\n",
        "df_final_demo.gendr=df_final_demo.gendr.replace(['X',np.nan],'U')\n",
        "print(df_final_demo.gendr.value_counts(dropna=False))"
      ],
      "execution_count": null,
      "outputs": [
        {
          "output_type": "stream",
          "name": "stdout",
          "text": [
            "U    24139\n",
            "M    23724\n",
            "F    22746\n",
            "Name: gendr, dtype: int64\n"
          ]
        }
      ]
    },
    {
      "cell_type": "code",
      "metadata": {
        "colab": {
          "base_uri": "https://localhost:8080/"
        },
        "id": "hdBl3K0-g20N",
        "outputId": "edf56a64-a2db-4649-cdad-df56b82a479d"
      },
      "source": [
        "#Checking values for num_accts\n",
        "print(df_final_demo.num_accts.value_counts(dropna=False))"
      ],
      "execution_count": null,
      "outputs": [
        {
          "output_type": "stream",
          "name": "stdout",
          "text": [
            "2.0    55497\n",
            "3.0    12529\n",
            "4.0     2241\n",
            "5.0      284\n",
            "6.0       33\n",
            "NaN       14\n",
            "7.0        8\n",
            "1.0        2\n",
            "8.0        1\n",
            "Name: num_accts, dtype: int64\n"
          ]
        }
      ]
    },
    {
      "cell_type": "markdown",
      "metadata": {
        "id": "NkkuYNmmk2xp"
      },
      "source": [
        "# Who currently engages Vanguard via this process?"
      ]
    },
    {
      "cell_type": "code",
      "metadata": {
        "colab": {
          "base_uri": "https://localhost:8080/"
        },
        "id": "RqkOzwA6h4ca",
        "outputId": "a6c4d47d-7905-44ac-8925-12e71f2e787f"
      },
      "source": [
        "#Understanding client spread by tenure\n",
        "plt.figure(figsize=(15,5))\n",
        "sns.histplot(data=df_final_demo,x=\"clnt_tenure_yr\")\n",
        "plt.title(\"Client involvement for each tenures\")\n",
        "plt.show()"
      ],
      "execution_count": null,
      "outputs": [
        {
          "output_type": "display_data",
          "data": {
            "image/png": "[encoded data removed]",
            "text/plain": [
              "<Figure size 1080x360 with 1 Axes>"
            ]
          },
          "metadata": {
            "needs_background": "light"
          }
        }
      ]
    },
    {
      "cell_type": "code",
      "metadata": {
        "colab": {
          "base_uri": "https://localhost:8080/"
        },
        "id": "d6RosYYjmdtZ",
        "outputId": "e46e3326-fab9-4d7c-b8cd-12458e2ff976"
      },
      "source": [
        "#Understanding client spread by Gender\n",
        "plt.figure(figsize=(15,5))\n",
        "sns.histplot(data=df_final_demo,x=\"gendr\")\n",
        "plt.title(\"Client involvement for each Gender\")\n",
        "plt.show()"
      ],
      "execution_count": null,
      "outputs": [
        {
          "output_type": "display_data",
          "data": {
            "image/png": "[encoded data removed]",
            "text/plain": [
              "<Figure size 1080x360 with 1 Axes>"
            ]
          },
          "metadata": {
            "needs_background": "light"
          }
        }
      ]
    },
    {
      "cell_type": "code",
      "metadata": {
        "colab": {
          "base_uri": "https://localhost:8080/"
        },
        "id": "U3YwsNFJkwed",
        "outputId": "9c3a5614-79c0-45b6-98c2-35d445324e2a"
      },
      "source": [
        "#Understanding client spread by Age\n",
        "plt.figure(figsize=(15,5))\n",
        "sns.histplot(data=df_final_demo,x=\"clnt_age\",binwidth=4)\n",
        "plt.title(\"Client involvement for each Age\")\n",
        "plt.show()"
      ],
      "execution_count": null,
      "outputs": [
        {
          "output_type": "display_data",
          "data": {
            "image/png": "[encoded data removed]",
            "text/plain": [
              "<Figure size 1080x360 with 1 Axes>"
            ]
          },
          "metadata": {
            "needs_background": "light"
          }
        }
      ]
    },
    {
      "cell_type": "code",
      "metadata": {
        "colab": {
          "base_uri": "https://localhost:8080/"
        },
        "id": "2fv92UD1oIL4",
        "outputId": "89159d50-0c16-4bb5-9285-0f169d9159f5"
      },
      "source": [
        "#Understanding client spread by balance\n",
        "plt.figure(figsize=(15,5))\n",
        "sns.histplot(data=df_final_demo,x=\"bal\")\n",
        "plt.title(\"Client involvement for Balance\")\n",
        "plt.show()"
      ],
      "execution_count": null,
      "outputs": [
        {
          "output_type": "display_data",
          "data": {
            "image/png": "[encoded data removed]",
            "text/plain": [
              "<Figure size 1080x360 with 1 Axes>"
            ]
          },
          "metadata": {
            "needs_background": "light"
          }
        }
      ]
    },
    {
      "cell_type": "markdown",
      "metadata": {
        "id": "hC8ShsbOoYiE"
      },
      "source": [
        "# Loading, cleaning and analyzing df_final_experiment_clients"
      ]
    },
    {
      "cell_type": "code",
      "metadata": {
        "colab": {
          "base_uri": "https://localhost:8080/"
        },
        "id": "T-h9uc0kA7mH",
        "outputId": "bfea585a-31ab-4773-9dda-da87271db8e1"
      },
      "source": [
        "#Reading file into a dataframe\n",
        "df_final_experiment_clients=pd.read_csv(\"df_final_experiment_clients.txt\")\n",
        "df_final_experiment_clients.head()"
      ],
      "execution_count": null,
      "outputs": [
        {
          "output_type": "execute_result",
          "data": {
            "text/html": [
              "<div>\n",
              "<style scoped>\n",
              "    .dataframe tbody tr th:only-of-type {\n",
              "        vertical-align: middle;\n",
              "    }\n",
              "\n",
              "    .dataframe tbody tr th {\n",
              "        vertical-align: top;\n",
              "    }\n",
              "\n",
              "    .dataframe thead th {\n",
              "        text-align: right;\n",
              "    }\n",
              "</style>\n",
              "<table border=\"1\" class=\"dataframe\">\n",
              "  <thead>\n",
              "    <tr style=\"text-align: right;\">\n",
              "      <th></th>\n",
              "      <th>client_id</th>\n",
              "      <th>Variation</th>\n",
              "    </tr>\n",
              "  </thead>\n",
              "  <tbody>\n",
              "    <tr>\n",
              "      <th>0</th>\n",
              "      <td>9988021</td>\n",
              "      <td>Test</td>\n",
              "    </tr>\n",
              "    <tr>\n",
              "      <th>1</th>\n",
              "      <td>8320017</td>\n",
              "      <td>Test</td>\n",
              "    </tr>\n",
              "    <tr>\n",
              "      <th>2</th>\n",
              "      <td>4033851</td>\n",
              "      <td>Control</td>\n",
              "    </tr>\n",
              "    <tr>\n",
              "      <th>3</th>\n",
              "      <td>1982004</td>\n",
              "      <td>Test</td>\n",
              "    </tr>\n",
              "    <tr>\n",
              "      <th>4</th>\n",
              "      <td>9294070</td>\n",
              "      <td>Control</td>\n",
              "    </tr>\n",
              "  </tbody>\n",
              "</table>\n",
              "</div>"
            ],
            "text/plain": [
              "   client_id Variation\n",
              "0    9988021      Test\n",
              "1    8320017      Test\n",
              "2    4033851   Control\n",
              "3    1982004      Test\n",
              "4    9294070   Control"
            ]
          },
          "metadata": {},
          "execution_count": 12
        }
      ]
    },
    {
      "cell_type": "code",
      "metadata": {
        "colab": {
          "base_uri": "https://localhost:8080/"
        },
        "id": "S6YvKlrUo53a",
        "outputId": "5a7086c7-1efc-4c1a-dbd7-9440e69d5b73"
      },
      "source": [
        "# Validating for null values\n",
        "print(\"Null vallues for Client Id:\",df_final_experiment_clients.client_id.isna().sum())\n",
        "print(\"Null vallues for Variation:\",df_final_experiment_clients.Variation.isna().sum())"
      ],
      "execution_count": null,
      "outputs": [
        {
          "output_type": "stream",
          "name": "stdout",
          "text": [
            "Null vallues for Client Id: 0\n",
            "Null vallues for Variation: 20109\n"
          ]
        }
      ]
    },
    {
      "cell_type": "code",
      "metadata": {
        "colab": {
          "base_uri": "https://localhost:8080/"
        },
        "id": "3asiKKfXpmOh",
        "outputId": "51e1a625-014d-450a-846a-8d1f7080406a"
      },
      "source": [
        "#Reviewing various values for Variations \n",
        "df_final_experiment_clients.Variation.value_counts(dropna=False)"
      ],
      "execution_count": null,
      "outputs": [
        {
          "output_type": "execute_result",
          "data": {
            "text/plain": [
              "Test       26968\n",
              "Control    23532\n",
              "NaN        20109\n",
              "Name: Variation, dtype: int64"
            ]
          },
          "metadata": {},
          "execution_count": 14
        }
      ]
    },
    {
      "cell_type": "code",
      "metadata": {
        "colab": {
          "base_uri": "https://localhost:8080/"
        },
        "id": "vjO05OlNrGHc",
        "outputId": "ebcde7ad-0bc5-47a8-eaa2-7bf9defc1bff"
      },
      "source": [
        "#We will drop records for NaN since they are not relavent for our experiments\n",
        "df_final_experiment_clients=df_final_experiment_clients.dropna()\n",
        "print(\"df_final_experiment_clients.Variation.value_counts(dropna=False))\")\n",
        "print(\"Dataframe shape:\",df_final_experiment_clients.shape)"
      ],
      "execution_count": null,
      "outputs": [
        {
          "output_type": "stream",
          "name": "stdout",
          "text": [
            "df_final_experiment_clients.Variation.value_counts(dropna=False))\n",
            "Dataframe shape: (50500, 2)\n"
          ]
        }
      ]
    },
    {
      "cell_type": "markdown",
      "metadata": {
        "id": "ICTwCu6vq-Fh"
      },
      "source": [
        "# Loading, cleaning and analyzing df_final_web_data1 and df_final_web_data2"
      ]
    },
    {
      "cell_type": "code",
      "metadata": {
        "colab": {
          "base_uri": "https://localhost:8080/"
        },
        "id": "9siYY_1DBZcJ",
        "outputId": "0cde405b-babf-4042-8f84-d9bb3b0a9fac"
      },
      "source": [
        "# Loading file to dataframe, checking first 5 records. \n",
        "df_final_web_data1=pd.read_csv(\"df_final_web_data_pt_1.txt\",parse_dates=[\"date_time\"])\n",
        "df_final_web_data1.head()"
      ],
      "execution_count": null,
      "outputs": [
        {
          "output_type": "execute_result",
          "data": {
            "text/html": [
              "<div>\n",
              "<style scoped>\n",
              "    .dataframe tbody tr th:only-of-type {\n",
              "        vertical-align: middle;\n",
              "    }\n",
              "\n",
              "    .dataframe tbody tr th {\n",
              "        vertical-align: top;\n",
              "    }\n",
              "\n",
              "    .dataframe thead th {\n",
              "        text-align: right;\n",
              "    }\n",
              "</style>\n",
              "<table border=\"1\" class=\"dataframe\">\n",
              "  <thead>\n",
              "    <tr style=\"text-align: right;\">\n",
              "      <th></th>\n",
              "      <th>client_id</th>\n",
              "      <th>visitor_id</th>\n",
              "      <th>visit_id</th>\n",
              "      <th>process_step</th>\n",
              "      <th>date_time</th>\n",
              "    </tr>\n",
              "  </thead>\n",
              "  <tbody>\n",
              "    <tr>\n",
              "      <th>0</th>\n",
              "      <td>9988021</td>\n",
              "      <td>580560515_7732621733</td>\n",
              "      <td>781255054_21935453173_531117</td>\n",
              "      <td>step_3</td>\n",
              "      <td>2017-04-17 15:27:07</td>\n",
              "    </tr>\n",
              "    <tr>\n",
              "      <th>1</th>\n",
              "      <td>9988021</td>\n",
              "      <td>580560515_7732621733</td>\n",
              "      <td>781255054_21935453173_531117</td>\n",
              "      <td>step_2</td>\n",
              "      <td>2017-04-17 15:26:51</td>\n",
              "    </tr>\n",
              "    <tr>\n",
              "      <th>2</th>\n",
              "      <td>9988021</td>\n",
              "      <td>580560515_7732621733</td>\n",
              "      <td>781255054_21935453173_531117</td>\n",
              "      <td>step_3</td>\n",
              "      <td>2017-04-17 15:19:22</td>\n",
              "    </tr>\n",
              "    <tr>\n",
              "      <th>3</th>\n",
              "      <td>9988021</td>\n",
              "      <td>580560515_7732621733</td>\n",
              "      <td>781255054_21935453173_531117</td>\n",
              "      <td>step_2</td>\n",
              "      <td>2017-04-17 15:19:13</td>\n",
              "    </tr>\n",
              "    <tr>\n",
              "      <th>4</th>\n",
              "      <td>9988021</td>\n",
              "      <td>580560515_7732621733</td>\n",
              "      <td>781255054_21935453173_531117</td>\n",
              "      <td>step_3</td>\n",
              "      <td>2017-04-17 15:18:04</td>\n",
              "    </tr>\n",
              "  </tbody>\n",
              "</table>\n",
              "</div>"
            ],
            "text/plain": [
              "   client_id            visitor_id  ... process_step           date_time\n",
              "0    9988021  580560515_7732621733  ...       step_3 2017-04-17 15:27:07\n",
              "1    9988021  580560515_7732621733  ...       step_2 2017-04-17 15:26:51\n",
              "2    9988021  580560515_7732621733  ...       step_3 2017-04-17 15:19:22\n",
              "3    9988021  580560515_7732621733  ...       step_2 2017-04-17 15:19:13\n",
              "4    9988021  580560515_7732621733  ...       step_3 2017-04-17 15:18:04\n",
              "\n",
              "[5 rows x 5 columns]"
            ]
          },
          "metadata": {},
          "execution_count": 16
        }
      ]
    },
    {
      "cell_type": "code",
      "metadata": {
        "colab": {
          "base_uri": "https://localhost:8080/"
        },
        "id": "hCvWnHkDuD0_",
        "outputId": "5fbbbf74-53a6-48eb-c36e-f50a157bf9ae"
      },
      "source": [
        "#Checking data type. Ensuring date_time has appropriate datatype\n",
        "df_final_web_data1.dtypes"
      ],
      "execution_count": null,
      "outputs": [
        {
          "output_type": "execute_result",
          "data": {
            "text/plain": [
              "client_id                int64\n",
              "visitor_id              object\n",
              "visit_id                object\n",
              "process_step            object\n",
              "date_time       datetime64[ns]\n",
              "dtype: object"
            ]
          },
          "metadata": {},
          "execution_count": 17
        }
      ]
    },
    {
      "cell_type": "code",
      "metadata": {
        "colab": {
          "base_uri": "https://localhost:8080/"
        },
        "id": "97w7UDWQB4hR",
        "outputId": "89cf6cf8-0369-4779-da1c-2d7908e35f65"
      },
      "source": [
        "# Loading file to dataframe, reviewing first 5 records.\n",
        "df_final_web_data2=pd.read_csv(\"df_final_web_data_pt_2.txt\",parse_dates=[\"date_time\"])\n",
        "df_final_web_data2.head()"
      ],
      "execution_count": null,
      "outputs": [
        {
          "output_type": "execute_result",
          "data": {
            "text/html": [
              "<div>\n",
              "<style scoped>\n",
              "    .dataframe tbody tr th:only-of-type {\n",
              "        vertical-align: middle;\n",
              "    }\n",
              "\n",
              "    .dataframe tbody tr th {\n",
              "        vertical-align: top;\n",
              "    }\n",
              "\n",
              "    .dataframe thead th {\n",
              "        text-align: right;\n",
              "    }\n",
              "</style>\n",
              "<table border=\"1\" class=\"dataframe\">\n",
              "  <thead>\n",
              "    <tr style=\"text-align: right;\">\n",
              "      <th></th>\n",
              "      <th>client_id</th>\n",
              "      <th>visitor_id</th>\n",
              "      <th>visit_id</th>\n",
              "      <th>process_step</th>\n",
              "      <th>date_time</th>\n",
              "    </tr>\n",
              "  </thead>\n",
              "  <tbody>\n",
              "    <tr>\n",
              "      <th>0</th>\n",
              "      <td>763412</td>\n",
              "      <td>601952081_10457207388</td>\n",
              "      <td>397475557_40440946728_419634</td>\n",
              "      <td>confirm</td>\n",
              "      <td>2017-06-06 08:56:00</td>\n",
              "    </tr>\n",
              "    <tr>\n",
              "      <th>1</th>\n",
              "      <td>6019349</td>\n",
              "      <td>442094451_91531546617</td>\n",
              "      <td>154620534_35331068705_522317</td>\n",
              "      <td>confirm</td>\n",
              "      <td>2017-06-01 11:59:27</td>\n",
              "    </tr>\n",
              "    <tr>\n",
              "      <th>2</th>\n",
              "      <td>6019349</td>\n",
              "      <td>442094451_91531546617</td>\n",
              "      <td>154620534_35331068705_522317</td>\n",
              "      <td>step_3</td>\n",
              "      <td>2017-06-01 11:58:48</td>\n",
              "    </tr>\n",
              "    <tr>\n",
              "      <th>3</th>\n",
              "      <td>6019349</td>\n",
              "      <td>442094451_91531546617</td>\n",
              "      <td>154620534_35331068705_522317</td>\n",
              "      <td>step_2</td>\n",
              "      <td>2017-06-01 11:58:08</td>\n",
              "    </tr>\n",
              "    <tr>\n",
              "      <th>4</th>\n",
              "      <td>6019349</td>\n",
              "      <td>442094451_91531546617</td>\n",
              "      <td>154620534_35331068705_522317</td>\n",
              "      <td>step_1</td>\n",
              "      <td>2017-06-01 11:57:58</td>\n",
              "    </tr>\n",
              "  </tbody>\n",
              "</table>\n",
              "</div>"
            ],
            "text/plain": [
              "   client_id             visitor_id  ... process_step           date_time\n",
              "0     763412  601952081_10457207388  ...      confirm 2017-06-06 08:56:00\n",
              "1    6019349  442094451_91531546617  ...      confirm 2017-06-01 11:59:27\n",
              "2    6019349  442094451_91531546617  ...       step_3 2017-06-01 11:58:48\n",
              "3    6019349  442094451_91531546617  ...       step_2 2017-06-01 11:58:08\n",
              "4    6019349  442094451_91531546617  ...       step_1 2017-06-01 11:57:58\n",
              "\n",
              "[5 rows x 5 columns]"
            ]
          },
          "metadata": {},
          "execution_count": 18
        }
      ]
    },
    {
      "cell_type": "code",
      "metadata": {
        "colab": {
          "base_uri": "https://localhost:8080/"
        },
        "id": "vskn0e-fuVyd",
        "outputId": "077d9391-2b3e-4448-daec-0438f6a1edb7"
      },
      "source": [
        " #Checking data type. Ensuring date_time has appropriate datatype\n",
        " df_final_web_data2.dtypes"
      ],
      "execution_count": null,
      "outputs": [
        {
          "output_type": "execute_result",
          "data": {
            "text/plain": [
              "client_id                int64\n",
              "visitor_id              object\n",
              "visit_id                object\n",
              "process_step            object\n",
              "date_time       datetime64[ns]\n",
              "dtype: object"
            ]
          },
          "metadata": {},
          "execution_count": 19
        }
      ]
    },
    {
      "cell_type": "code",
      "metadata": {
        "colab": {
          "base_uri": "https://localhost:8080/"
        },
        "id": "9s_JzOGlMeQ0",
        "outputId": "f301000e-9484-4c97-be8b-de0c0d7b234f"
      },
      "source": [
        "# Filtering the records based on the experiment run dates. We would not use record outsize date range 2017-03-15 and 2020-04-30.\n",
        "df_date_filtered_activity_set1 = df_final_web_data1.loc[(df_final_web_data1['date_time'] >= '2017-03-15')\n",
        "                     & (df_final_web_data1['date_time'] <= '2020-04-30')]\n",
        "df_date_filtered_activity_set1.shape"
      ],
      "execution_count": null,
      "outputs": [
        {
          "output_type": "execute_result",
          "data": {
            "text/plain": [
              "(343141, 5)"
            ]
          },
          "metadata": {},
          "execution_count": 20
        }
      ]
    },
    {
      "cell_type": "code",
      "metadata": {
        "colab": {
          "base_uri": "https://localhost:8080/"
        },
        "id": "_MSrKa0uLz9k",
        "outputId": "6430de63-09b6-48d4-8e0f-f7aa96ee6de2"
      },
      "source": [
        "# Filtering the records based on the experiment run dates. We would not use record outsize date range 2017-03-15 and 2020-04-30.\n",
        "df_date_filtered_activity_set2 = df_final_web_data2.loc[(df_final_web_data2['date_time'] >= '2017-03-15')\n",
        "                     & (df_final_web_data2['date_time'] <= '2017-04-30')]\n",
        "df_date_filtered_activity_set2.shape"
      ],
      "execution_count": null,
      "outputs": [
        {
          "output_type": "execute_result",
          "data": {
            "text/plain": [
              "(0, 5)"
            ]
          },
          "metadata": {},
          "execution_count": 21
        }
      ]
    },
    {
      "cell_type": "markdown",
      "metadata": {
        "id": "hFhdgfQKAUFk"
      },
      "source": [
        "From above result, we can assume that records from file df_final_web_data_pt_2 is not useful for our analysis since dates fall outside of our experiment date range."
      ]
    },
    {
      "cell_type": "markdown",
      "metadata": {
        "id": "U5qg7JcbE_n-"
      },
      "source": [
        "# Joining data of df_final_experiment_clients and df_date_filtered_activity_set to segregate records for control and test group"
      ]
    },
    {
      "cell_type": "code",
      "metadata": {
        "colab": {
          "base_uri": "https://localhost:8080/"
        },
        "id": "W-H3gFx_CQ6D",
        "outputId": "350920e7-fba5-440f-94a2-421ec22aad66"
      },
      "source": [
        "#Joining the clients and df_date_filtered_activity_set1\n",
        "df_final_set1=df_final_experiment_clients.merge(df_date_filtered_activity_set1,how='inner',on=['client_id'])\n",
        "print(df_final_set1.Variation.value_counts())\n",
        "print(\"Null vaiations:\",df_final_set1.Variation.isnull().sum())\n",
        "print(df_final_set1.head(5))\n",
        "print(df_final_set1.shape)\n"
      ],
      "execution_count": null,
      "outputs": [
        {
          "output_type": "stream",
          "name": "stdout",
          "text": [
            "Test       139691\n",
            "Control    101537\n",
            "Name: Variation, dtype: int64\n",
            "Null vaiations: 0\n",
            "   client_id Variation  ... process_step           date_time\n",
            "0    9988021      Test  ...       step_3 2017-04-17 15:27:07\n",
            "1    9988021      Test  ...       step_2 2017-04-17 15:26:51\n",
            "2    9988021      Test  ...       step_3 2017-04-17 15:19:22\n",
            "3    9988021      Test  ...       step_2 2017-04-17 15:19:13\n",
            "4    9988021      Test  ...       step_3 2017-04-17 15:18:04\n",
            "\n",
            "[5 rows x 6 columns]\n",
            "(241228, 6)\n"
          ]
        }
      ]
    },
    {
      "cell_type": "markdown",
      "metadata": {
        "id": "kGYa4F9VGAFy"
      },
      "source": [
        "#Validating that bias is not introduced in error"
      ]
    },
    {
      "cell_type": "code",
      "metadata": {
        "id": "HUGg6rnPGhmv",
        "colab": {
          "base_uri": "https://localhost:8080/"
        },
        "outputId": "32599be0-a9d1-4049-e50e-041be81a370f"
      },
      "source": [
        "# Merging client details data with activity data\n",
        "df_Merged_Client_Variant=df_final_demo.merge(df_final_set1, how='inner',on=\"client_id\")\n",
        "df_Merged_Client_Variant.shape"
      ],
      "execution_count": null,
      "outputs": [
        {
          "output_type": "execute_result",
          "data": {
            "text/plain": [
              "(241228, 14)"
            ]
          },
          "metadata": {},
          "execution_count": 23
        }
      ]
    },
    {
      "cell_type": "code",
      "metadata": {
        "colab": {
          "base_uri": "https://localhost:8080/",
          "height": 986
        },
        "id": "HQBiyliFcEwg",
        "outputId": "1c2df277-9b39-4818-de07-43a73025a36b"
      },
      "source": [
        "#Identifying Client Tenure vs number of clients in Control and Test group\n",
        "df_Control_Involved_User_By_Tenure=df_Merged_Client_Variant[df_Merged_Client_Variant.Variation=='Control'][[\"clnt_tenure_yr\",\"client_id\"]]\n",
        "df_Control_Involved_User_By_Tenure=df_Control_Involved_User_By_Tenure.groupby(by=\"clnt_tenure_yr\",as_index=False).agg({\"client_id\": \"nunique\"})\n",
        "df_Control_Involved_User_By_Tenure.columns=[\"clnt_tenure_yr\",\"Client_count\"]\n",
        "plt.figure(figsize=(20,10))\n",
        "sns.barplot(x=\"clnt_tenure_yr\",y=\"Client_count\",data=df_Control_Involved_User_By_Tenure)\n",
        "plt.title(\"Control Group user Involvement\")\n",
        "plt.show()\n",
        "\n",
        "df_Test_Involved_User_By_Tenure=df_Merged_Client_Variant[df_Merged_Client_Variant.Variation=='Test'][[\"clnt_tenure_yr\",\"client_id\"]].drop_duplicates()\n",
        "df_Test_Involved_User_By_Tenure=df_Test_Involved_User_By_Tenure.groupby(by=\"clnt_tenure_yr\",as_index=False).count()\n",
        "df_Test_Involved_User_By_Tenure.columns=[\"clnt_tenure_yr\",\"Client_count\"]\n",
        "plt.figure(figsize=(20,10))\n",
        "sns.barplot(x=\"clnt_tenure_yr\",y=\"Client_count\",data=df_Test_Involved_User_By_Tenure)\n",
        "plt.title(\"Test Group user Involvement\")\n",
        "plt.show()"
      ],
      "execution_count": null,
      "outputs": [
        {
          "output_type": "display_data",
          "data": {
            "image/png": "[encoded data removed]",
            "text/plain": [
              "<Figure size 1440x720 with 1 Axes>"
            ]
          },
          "metadata": {
            "needs_background": "light"
          }
        },
        {
          "output_type": "display_data",
          "data": {
            "image/png": "[encoded data removed]",
            "text/plain": [
              "<Figure size 1440x720 with 1 Axes>"
            ]
          },
          "metadata": {
            "needs_background": "light"
          }
        }
      ]
    },
    {
      "cell_type": "code",
      "metadata": {
        "id": "WLZ62ugXYK_q",
        "colab": {
          "base_uri": "https://localhost:8080/",
          "height": 685
        },
        "outputId": "26cdf2dc-b135-45a3-b45d-76f81fb60f21"
      },
      "source": [
        "#Identifying Client age vs number of clients in Control and Test group\n",
        "df_Control_Involved_User_By_Age=df_Merged_Client_Variant[df_Merged_Client_Variant.Variation=='Control'][[\"clnt_age\",\"client_id\"]].drop_duplicates()\n",
        "plt.figure(figsize=(15,5))\n",
        "sns.histplot(data=df_Control_Involved_User_By_Age,x=\"clnt_age\")\n",
        "plt.title(\"Control Group user Involvement\")\n",
        "plt.show()\n",
        "\n",
        "\n",
        "df_Test_Involved_User_By_Age=df_Merged_Client_Variant[df_Merged_Client_Variant.Variation=='Test'][[\"clnt_age\",\"client_id\"]].drop_duplicates()\n",
        "plt.figure(figsize=(15,5))\n",
        "sns.histplot(data=df_Test_Involved_User_By_Age,x=\"clnt_age\")\n",
        "plt.title(\"Test Group user Involvement\")\n",
        "plt.show()"
      ],
      "execution_count": null,
      "outputs": [
        {
          "output_type": "display_data",
          "data": {
            "image/png": "[encoded data removed]",
            "text/plain": [
              "<Figure size 1080x360 with 1 Axes>"
            ]
          },
          "metadata": {
            "needs_background": "light"
          }
        },
        {
          "output_type": "display_data",
          "data": {
            "image/png": "[encoded data removed]",
            "text/plain": [
              "<Figure size 1080x360 with 1 Axes>"
            ]
          },
          "metadata": {
            "needs_background": "light"
          }
        }
      ]
    },
    {
      "cell_type": "code",
      "metadata": {
        "id": "wQTPZZV5SsyQ",
        "colab": {
          "base_uri": "https://localhost:8080/",
          "height": 683
        },
        "outputId": "f6768ffb-4679-4a69-d5f4-3819267c171e"
      },
      "source": [
        "#Identifying gender vs number of clients in Control and Test group\n",
        "df_Control_Involved_User_By_Gender=df_Merged_Client_Variant[df_Merged_Client_Variant.Variation=='Control'][[\"gendr\",\"client_id\"]].drop_duplicates()\n",
        "plt.figure(figsize=(15,5))\n",
        "sns.histplot(data=df_Control_Involved_User_By_Gender,x=\"gendr\")\n",
        "plt.title(\"Control Group user Involvement\")\n",
        "plt.show()\n",
        "\n",
        "\n",
        "df_Test_Involved_User_By_Gender=df_Merged_Client_Variant[df_Merged_Client_Variant.Variation=='Test'][[\"gendr\",\"client_id\"]].drop_duplicates()\n",
        "plt.figure(figsize=(15,5))\n",
        "sns.histplot(data=df_Test_Involved_User_By_Gender,x=\"gendr\")\n",
        "plt.title(\"Test Group user Involvement\")\n",
        "plt.show()"
      ],
      "execution_count": null,
      "outputs": [
        {
          "output_type": "display_data",
          "data": {
            "image/png": "[encoded data removed]",
            "text/plain": [
              "<Figure size 1080x360 with 1 Axes>"
            ]
          },
          "metadata": {
            "needs_background": "light"
          }
        },
        {
          "output_type": "display_data",
          "data": {
            "image/png": "[encoded data removed]",
            "text/plain": [
              "<Figure size 1080x360 with 1 Axes>"
            ]
          },
          "metadata": {
            "needs_background": "light"
          }
        }
      ]
    },
    {
      "cell_type": "code",
      "metadata": {
        "id": "lWGUIk5lcgAA",
        "colab": {
          "base_uri": "https://localhost:8080/",
          "height": 973
        },
        "outputId": "d3dbab26-5193-4752-99f1-e865decb13ed"
      },
      "source": [
        "#Identifying Client balance vs number of clients in Control and Test group\n",
        "df_Control_Involved_User_By_Balance=df_Merged_Client_Variant[df_Merged_Client_Variant.Variation=='Control'][[\"bal\",\"client_id\"]].drop_duplicates()\n",
        "plt.figure(figsize=(10,5))\n",
        "sns.histplot(data=df_Control_Involved_User_By_Balance,x=\"bal\",bins='auto')\n",
        "plt.title(\"Control Group user Involvement\")\n",
        "plt.show()\n",
        "\n",
        "df_Test_Involved_User_By_Balance=df_Merged_Client_Variant[df_Merged_Client_Variant.Variation=='Test'][[\"bal\",\"client_id\"]].drop_duplicates()\n",
        "plt.figure(figsize=(10,5))\n",
        "sns.histplot(data=df_Test_Involved_User_By_Balance,x=\"bal\",bins='auto')\n",
        "plt.title(\"Test Group user Involvement\")\n",
        "plt.show()\n",
        "\n",
        "sns.boxplot(x=\"Variation\", y=\"bal\", data=df_Merged_Client_Variant)"
      ],
      "execution_count": null,
      "outputs": [
        {
          "output_type": "display_data",
          "data": {
            "image/png": "[encoded data removed]",
            "text/plain": [
              "<Figure size 720x360 with 1 Axes>"
            ]
          },
          "metadata": {
            "needs_background": "light"
          }
        },
        {
          "output_type": "display_data",
          "data": {
            "image/png": "[encoded data removed]",
            "text/plain": [
              "<Figure size 720x360 with 1 Axes>"
            ]
          },
          "metadata": {
            "needs_background": "light"
          }
        },
        {
          "output_type": "execute_result",
          "data": {
            "text/plain": [
              "<matplotlib.axes._subplots.AxesSubplot at 0x7fd2c9d66610>"
            ]
          },
          "metadata": {},
          "execution_count": 27
        },
        {
          "output_type": "display_data",
          "data": {
            "image/png": "[encoded data removed]",
            "text/plain": [
              "<Figure size 432x288 with 1 Axes>"
            ]
          },
          "metadata": {
            "needs_background": "light"
          }
        }
      ]
    },
    {
      "cell_type": "code",
      "metadata": {
        "id": "5Y_f46P8lI8U",
        "colab": {
          "base_uri": "https://localhost:8080/",
          "height": 685
        },
        "outputId": "ee679eed-28b1-47aa-934b-c0fa6bf5f628"
      },
      "source": [
        "#Identifying calls vs number of clients in Control and Test group\n",
        "df_Control_Involved_User_By_calls=df_Merged_Client_Variant[df_Merged_Client_Variant.Variation=='Control'][[\"calls_6_mnth\",\"client_id\"]].drop_duplicates()\n",
        "plt.figure(figsize=(15,5))\n",
        "sns.histplot(data=df_Control_Involved_User_By_calls,x=\"calls_6_mnth\")\n",
        "plt.title(\"Control Group user Involvement\")\n",
        "plt.show()\n",
        "\n",
        "\n",
        "df_Test_Involved_User_By_calls=df_Merged_Client_Variant[df_Merged_Client_Variant.Variation=='Test'][[\"calls_6_mnth\",\"client_id\"]].drop_duplicates()\n",
        "plt.figure(figsize=(15,5))\n",
        "sns.histplot(data=df_Test_Involved_User_By_calls,x=\"calls_6_mnth\")\n",
        "plt.title(\"Test Group user Involvement\")\n",
        "plt.show()"
      ],
      "execution_count": null,
      "outputs": [
        {
          "output_type": "display_data",
          "data": {
            "image/png": "[encoded data removed]",
            "text/plain": [
              "<Figure size 1080x360 with 1 Axes>"
            ]
          },
          "metadata": {
            "needs_background": "light"
          }
        },
        {
          "output_type": "display_data",
          "data": {
            "image/png": "[encoded data removed]",
            "text/plain": [
              "<Figure size 1080x360 with 1 Axes>"
            ]
          },
          "metadata": {
            "needs_background": "light"
          }
        }
      ]
    },
    {
      "cell_type": "code",
      "metadata": {
        "id": "B8aMwzfylNci",
        "colab": {
          "base_uri": "https://localhost:8080/",
          "height": 685
        },
        "outputId": "94538a1a-6bd7-44ae-c9d9-01ab3d3c6ab3"
      },
      "source": [
        "#Identifying logons vs number of clients in Control and Test group\n",
        "df_Control_Involved_User_By_logons=df_Merged_Client_Variant[df_Merged_Client_Variant.Variation=='Control'][[\"logons_6_mnth\",\"client_id\"]].drop_duplicates()\n",
        "plt.figure(figsize=(15,5))\n",
        "sns.histplot(data=df_Control_Involved_User_By_logons,x=\"logons_6_mnth\")\n",
        "plt.title(\"Control Group user Involvement\")\n",
        "plt.show()\n",
        "\n",
        "\n",
        "df_Test_Involved_User_By_logons=df_Merged_Client_Variant[df_Merged_Client_Variant.Variation=='Test'][[\"logons_6_mnth\",\"client_id\"]].drop_duplicates()\n",
        "plt.figure(figsize=(15,5))\n",
        "sns.histplot(data=df_Test_Involved_User_By_logons,x=\"logons_6_mnth\")\n",
        "plt.title(\"Test Group user Involvement\")\n",
        "plt.show()"
      ],
      "execution_count": null,
      "outputs": [
        {
          "output_type": "display_data",
          "data": {
            "image/png": "[encoded data removed]",
            "text/plain": [
              "<Figure size 1080x360 with 1 Axes>"
            ]
          },
          "metadata": {
            "needs_background": "light"
          }
        },
        {
          "output_type": "display_data",
          "data": {
            "image/png": "[encoded data removed]",
            "text/plain": [
              "<Figure size 1080x360 with 1 Axes>"
            ]
          },
          "metadata": {
            "needs_background": "light"
          }
        }
      ]
    },
    {
      "cell_type": "markdown",
      "metadata": {
        "id": "ZdNsUHdxETeo"
      },
      "source": [
        "# Analyzing the difference in the way in which Test and control group is accessing UI"
      ]
    },
    {
      "cell_type": "code",
      "metadata": {
        "colab": {
          "base_uri": "https://localhost:8080/",
          "height": 677
        },
        "id": "jh3mkGMfczuF",
        "outputId": "2b500cce-311b-4590-8f7b-2d25b308d5a0"
      },
      "source": [
        "#Trying to summarize how number of hits per customer\n",
        "df_Control_user_data=df_final_set1[(df_final_set1.Variation=='Control') ]\n",
        "df_Control_hit_per_user=df_Control_user_data.groupby(by=[\"client_id\",\"Variation\"],axis=0,as_index=False).size()\n",
        "print(\"Control Group Statisstics\")\n",
        "print(df_Control_hit_per_user.describe())\n",
        "\n",
        "df_Test_user_data=df_final_set1[(df_final_set1.Variation=='Test') ]\n",
        "df_Test_hit_per_user=df_Test_user_data.groupby(by=[\"client_id\",\"Variation\"],axis=0,as_index=False).size()\n",
        "print(\"\\n\\nTest Group Statisstics\")\n",
        "print(df_Test_hit_per_user.describe())\n",
        "\n",
        "sns.boxplot(x=\"Variation\", y=\"size\", data=pd.concat([df_Control_hit_per_user, df_Test_hit_per_user]))\n",
        "plt.title(\"Hits per customer for each variations\")\n",
        "plt.xlabel(\"Variations\")\n",
        "plt.ylabel(\"Hits per customer\")\n",
        "plt.show()"
      ],
      "execution_count": null,
      "outputs": [
        {
          "output_type": "stream",
          "name": "stdout",
          "text": [
            "Control Group Statisstics\n",
            "          client_id          size\n",
            "count  1.801500e+04  18015.000000\n",
            "mean   5.023261e+06      5.636248\n",
            "std    2.878017e+06      3.746871\n",
            "min    1.028000e+03      1.000000\n",
            "25%    2.517986e+06      4.000000\n",
            "50%    5.048422e+06      5.000000\n",
            "75%    7.481610e+06      7.000000\n",
            "max    9.998921e+06     55.000000\n",
            "\n",
            "\n",
            "Test Group Statisstics\n",
            "          client_id          size\n",
            "count  2.201300e+04  22013.000000\n",
            "mean   5.004994e+06      6.345841\n",
            "std    2.879126e+06      3.839195\n",
            "min    5.550000e+02      1.000000\n",
            "25%    2.517465e+06      5.000000\n",
            "50%    5.032514e+06      5.000000\n",
            "75%    7.482600e+06      7.000000\n",
            "max    9.999729e+06     64.000000\n"
          ]
        },
        {
          "output_type": "display_data",
          "data": {
            "image/png": "[encoded data removed]",
            "text/plain": [
              "<Figure size 432x288 with 1 Axes>"
            ]
          },
          "metadata": {
            "needs_background": "light"
          }
        }
      ]
    },
    {
      "cell_type": "markdown",
      "metadata": {
        "id": "jG6S8vudZIKK"
      },
      "source": [
        "Mean values number of hits per user is higher for Test group compared to the Control group."
      ]
    },
    {
      "cell_type": "code",
      "metadata": {
        "id": "V7OOgHaLvUEZ",
        "colab": {
          "base_uri": "https://localhost:8080/",
          "height": 607
        },
        "outputId": "9b3df119-a82a-4d16-a722-a871464b2646"
      },
      "source": [
        "#Trying to dtermine number of hits per user, process steps \n",
        "df_Control_hit_per_step=df_Control_user_data.groupby(by=[\"client_id\",\"process_step\",\"Variation\"],axis=0,as_index=False).size()\n",
        "print(df_Control_hit_per_step.describe())\n",
        "df_Test_hit_per_step=df_Test_user_data.groupby(by=[\"client_id\",\"process_step\",\"Variation\"],axis=0,as_index=False).size()\n",
        "print(df_Test_hit_per_step.describe())\n",
        "\n",
        "sns.boxplot(x=\"Variation\", y=\"size\", data=pd.concat([df_Control_hit_per_step, df_Test_hit_per_step]))\n",
        "plt.title(\"Hits per Process Step for each variations\")\n",
        "plt.xlabel(\"Variations\")\n",
        "plt.ylabel(\"Hits per Process Step\")\n",
        "plt.show()"
      ],
      "execution_count": null,
      "outputs": [
        {
          "output_type": "stream",
          "name": "stdout",
          "text": [
            "          client_id          size\n",
            "count  7.147100e+04  71471.000000\n",
            "mean   5.022336e+06      1.420674\n",
            "std    2.877637e+06      1.260468\n",
            "min    1.028000e+03      1.000000\n",
            "25%    2.523164e+06      1.000000\n",
            "50%    5.038429e+06      1.000000\n",
            "75%    7.486042e+06      1.000000\n",
            "max    9.998921e+06     46.000000\n",
            "          client_id          size\n",
            "count  9.167700e+04  91677.000000\n",
            "mean   5.001264e+06      1.523730\n",
            "std    2.881278e+06      1.198536\n",
            "min    5.550000e+02      1.000000\n",
            "25%    2.507991e+06      1.000000\n",
            "50%    5.040493e+06      1.000000\n",
            "75%    7.468519e+06      2.000000\n",
            "max    9.999729e+06     35.000000\n"
          ]
        },
        {
          "output_type": "display_data",
          "data": {
            "image/png": "[encoded data removed]",
            "text/plain": [
              "<Figure size 432x288 with 1 Axes>"
            ]
          },
          "metadata": {
            "needs_background": "light"
          }
        }
      ]
    },
    {
      "cell_type": "code",
      "metadata": {
        "id": "yEvooqLq0RRc",
        "colab": {
          "base_uri": "https://localhost:8080/",
          "height": 607
        },
        "outputId": "712b72cf-90a3-463c-8806-8e7fd39028d9"
      },
      "source": [
        "#Trying to dtermine number of hits per session\n",
        "df_Control_hit_per_session=df_Control_user_data.groupby(by=[\"visit_id\",\"Variation\"],axis=0,as_index=False).size()\n",
        "print(df_Control_hit_per_session.describe())\n",
        "df_Test_hit_per_session=df_Test_user_data.groupby(by=[\"visit_id\",\"Variation\"],axis=0,as_index=False).size()\n",
        "print(df_Test_hit_per_session.describe())\n",
        "\n",
        "sns.boxplot(x=\"Variation\", y=\"size\", data=pd.concat([df_Control_hit_per_session, df_Test_hit_per_session]))\n",
        "plt.title(\"Hits per Session for each variations\")\n",
        "plt.xlabel(\"Variations\")\n",
        "plt.ylabel(\"Hits per Session\")\n",
        "plt.show()"
      ],
      "execution_count": null,
      "outputs": [
        {
          "output_type": "stream",
          "name": "stdout",
          "text": [
            "               size\n",
            "count  23323.000000\n",
            "mean       4.353514\n",
            "std        2.708680\n",
            "min        1.000000\n",
            "25%        2.000000\n",
            "50%        5.000000\n",
            "75%        5.000000\n",
            "max       39.000000\n",
            "               size\n",
            "count  28769.000000\n",
            "mean       4.855608\n",
            "std        2.919600\n",
            "min        1.000000\n",
            "25%        3.000000\n",
            "50%        5.000000\n",
            "75%        6.000000\n",
            "max       61.000000\n"
          ]
        },
        {
          "output_type": "display_data",
          "data": {
            "image/png": "[encoded data removed]",
            "text/plain": [
              "<Figure size 432x288 with 1 Axes>"
            ]
          },
          "metadata": {
            "needs_background": "light"
          }
        }
      ]
    },
    {
      "cell_type": "markdown",
      "metadata": {
        "id": "FL_yFKSIauVr"
      },
      "source": [
        "Above graph shows higher customer involvement."
      ]
    },
    {
      "cell_type": "markdown",
      "metadata": {
        "id": "LS9xk8P8FDl0"
      },
      "source": [
        "# For the experimental new process, how can its success be measured?"
      ]
    },
    {
      "cell_type": "code",
      "metadata": {
        "id": "IJzwZ1qQlxON"
      },
      "source": [
        "#Success can be measured by ratio of customers reached final step out of the clients who initiated start step"
      ],
      "execution_count": null,
      "outputs": []
    },
    {
      "cell_type": "markdown",
      "metadata": {
        "id": "FxREpCPOlwEy"
      },
      "source": [
        "# How did the new process perform?"
      ]
    },
    {
      "cell_type": "code",
      "metadata": {
        "id": "fwz6miuVb5aK",
        "colab": {
          "base_uri": "https://localhost:8080/",
          "height": 206
        },
        "outputId": "470625a8-fb7a-43fa-a612-75ca5e9c1a62"
      },
      "source": [
        "# Finding number of users involved in each process step for Control group\n",
        "df_control_conversion_metrics=df_final_set1[(df_final_set1.Variation=='Control') ][[\"client_id\",\"process_step\"]].drop_duplicates()[\"process_step\"].value_counts().to_frame()\n",
        "df_control_conversion_metrics=df_control_conversion_metrics.reset_index()\n",
        "df_control_conversion_metrics.columns=[\"Steps\",\"Activity\"]\n",
        "df_control_conversion_metrics"
      ],
      "execution_count": null,
      "outputs": [
        {
          "output_type": "execute_result",
          "data": {
            "text/html": [
              "<div>\n",
              "<style scoped>\n",
              "    .dataframe tbody tr th:only-of-type {\n",
              "        vertical-align: middle;\n",
              "    }\n",
              "\n",
              "    .dataframe tbody tr th {\n",
              "        vertical-align: top;\n",
              "    }\n",
              "\n",
              "    .dataframe thead th {\n",
              "        text-align: right;\n",
              "    }\n",
              "</style>\n",
              "<table border=\"1\" class=\"dataframe\">\n",
              "  <thead>\n",
              "    <tr style=\"text-align: right;\">\n",
              "      <th></th>\n",
              "      <th>Steps</th>\n",
              "      <th>Activity</th>\n",
              "    </tr>\n",
              "  </thead>\n",
              "  <tbody>\n",
              "    <tr>\n",
              "      <th>0</th>\n",
              "      <td>start</td>\n",
              "      <td>17948</td>\n",
              "    </tr>\n",
              "    <tr>\n",
              "      <th>1</th>\n",
              "      <td>step_1</td>\n",
              "      <td>15099</td>\n",
              "    </tr>\n",
              "    <tr>\n",
              "      <th>2</th>\n",
              "      <td>step_2</td>\n",
              "      <td>14023</td>\n",
              "    </tr>\n",
              "    <tr>\n",
              "      <th>3</th>\n",
              "      <td>step_3</td>\n",
              "      <td>13035</td>\n",
              "    </tr>\n",
              "    <tr>\n",
              "      <th>4</th>\n",
              "      <td>confirm</td>\n",
              "      <td>11366</td>\n",
              "    </tr>\n",
              "  </tbody>\n",
              "</table>\n",
              "</div>"
            ],
            "text/plain": [
              "     Steps  Activity\n",
              "0    start     17948\n",
              "1   step_1     15099\n",
              "2   step_2     14023\n",
              "3   step_3     13035\n",
              "4  confirm     11366"
            ]
          },
          "metadata": {},
          "execution_count": 34
        }
      ]
    },
    {
      "cell_type": "code",
      "metadata": {
        "id": "M9p_2cNIaX5m",
        "colab": {
          "base_uri": "https://localhost:8080/",
          "height": 206
        },
        "outputId": "d28d4103-4103-46dd-fa48-d04de889385b"
      },
      "source": [
        "# Finding number of users involved in each process step for Test group\n",
        "df_test_conversion_metrics=df_final_set1[(df_final_set1.Variation=='Test') ][[\"client_id\",\"process_step\"]].drop_duplicates()[\"process_step\"].value_counts().to_frame()\n",
        "df_test_conversion_metrics=df_test_conversion_metrics.reset_index()\n",
        "df_test_conversion_metrics.columns=[\"Steps\",\"Activity\"]\n",
        "df_test_conversion_metrics"
      ],
      "execution_count": null,
      "outputs": [
        {
          "output_type": "execute_result",
          "data": {
            "text/html": [
              "<div>\n",
              "<style scoped>\n",
              "    .dataframe tbody tr th:only-of-type {\n",
              "        vertical-align: middle;\n",
              "    }\n",
              "\n",
              "    .dataframe tbody tr th {\n",
              "        vertical-align: top;\n",
              "    }\n",
              "\n",
              "    .dataframe thead th {\n",
              "        text-align: right;\n",
              "    }\n",
              "</style>\n",
              "<table border=\"1\" class=\"dataframe\">\n",
              "  <thead>\n",
              "    <tr style=\"text-align: right;\">\n",
              "      <th></th>\n",
              "      <th>Steps</th>\n",
              "      <th>Activity</th>\n",
              "    </tr>\n",
              "  </thead>\n",
              "  <tbody>\n",
              "    <tr>\n",
              "      <th>0</th>\n",
              "      <td>start</td>\n",
              "      <td>21770</td>\n",
              "    </tr>\n",
              "    <tr>\n",
              "      <th>1</th>\n",
              "      <td>step_1</td>\n",
              "      <td>19790</td>\n",
              "    </tr>\n",
              "    <tr>\n",
              "      <th>2</th>\n",
              "      <td>step_2</td>\n",
              "      <td>18126</td>\n",
              "    </tr>\n",
              "    <tr>\n",
              "      <th>3</th>\n",
              "      <td>step_3</td>\n",
              "      <td>16961</td>\n",
              "    </tr>\n",
              "    <tr>\n",
              "      <th>4</th>\n",
              "      <td>confirm</td>\n",
              "      <td>15030</td>\n",
              "    </tr>\n",
              "  </tbody>\n",
              "</table>\n",
              "</div>"
            ],
            "text/plain": [
              "     Steps  Activity\n",
              "0    start     21770\n",
              "1   step_1     19790\n",
              "2   step_2     18126\n",
              "3   step_3     16961\n",
              "4  confirm     15030"
            ]
          },
          "metadata": {},
          "execution_count": 35
        }
      ]
    },
    {
      "cell_type": "code",
      "metadata": {
        "id": "lplJPuQaK_qN",
        "colab": {
          "base_uri": "https://localhost:8080/",
          "height": 206
        },
        "outputId": "f2610dbf-7cdd-4b54-b3cd-bfcc0e872976"
      },
      "source": [
        "# Combining Test group and control group client counts for each process steps\n",
        "df_final_metrics_conversion = df_control_conversion_metrics.merge(df_test_conversion_metrics,how='inner',on='Steps')\n",
        "df_final_metrics_conversion.columns=[\"Steps\",\"Control\",\"test\"]\n",
        "df_final_metrics_conversion"
      ],
      "execution_count": null,
      "outputs": [
        {
          "output_type": "execute_result",
          "data": {
            "text/html": [
              "<div>\n",
              "<style scoped>\n",
              "    .dataframe tbody tr th:only-of-type {\n",
              "        vertical-align: middle;\n",
              "    }\n",
              "\n",
              "    .dataframe tbody tr th {\n",
              "        vertical-align: top;\n",
              "    }\n",
              "\n",
              "    .dataframe thead th {\n",
              "        text-align: right;\n",
              "    }\n",
              "</style>\n",
              "<table border=\"1\" class=\"dataframe\">\n",
              "  <thead>\n",
              "    <tr style=\"text-align: right;\">\n",
              "      <th></th>\n",
              "      <th>Steps</th>\n",
              "      <th>Control</th>\n",
              "      <th>test</th>\n",
              "    </tr>\n",
              "  </thead>\n",
              "  <tbody>\n",
              "    <tr>\n",
              "      <th>0</th>\n",
              "      <td>start</td>\n",
              "      <td>17948</td>\n",
              "      <td>21770</td>\n",
              "    </tr>\n",
              "    <tr>\n",
              "      <th>1</th>\n",
              "      <td>step_1</td>\n",
              "      <td>15099</td>\n",
              "      <td>19790</td>\n",
              "    </tr>\n",
              "    <tr>\n",
              "      <th>2</th>\n",
              "      <td>step_2</td>\n",
              "      <td>14023</td>\n",
              "      <td>18126</td>\n",
              "    </tr>\n",
              "    <tr>\n",
              "      <th>3</th>\n",
              "      <td>step_3</td>\n",
              "      <td>13035</td>\n",
              "      <td>16961</td>\n",
              "    </tr>\n",
              "    <tr>\n",
              "      <th>4</th>\n",
              "      <td>confirm</td>\n",
              "      <td>11366</td>\n",
              "      <td>15030</td>\n",
              "    </tr>\n",
              "  </tbody>\n",
              "</table>\n",
              "</div>"
            ],
            "text/plain": [
              "     Steps  Control   test\n",
              "0    start    17948  21770\n",
              "1   step_1    15099  19790\n",
              "2   step_2    14023  18126\n",
              "3   step_3    13035  16961\n",
              "4  confirm    11366  15030"
            ]
          },
          "metadata": {},
          "execution_count": 36
        }
      ]
    },
    {
      "cell_type": "code",
      "metadata": {
        "id": "tJsTg1pNOM6l",
        "colab": {
          "base_uri": "https://localhost:8080/",
          "height": 206
        },
        "outputId": "b3d41251-b072-4378-cd64-04f6bf5f33c0"
      },
      "source": [
        "# Combining Test group and control group conversion ratio for each process steps\n",
        "df_final_metrics_conversion_ratio=df_final_metrics_conversion.copy()\n",
        "df_final_metrics_conversion_ratio['Control']=df_final_metrics_conversion_ratio['Control']/df_final_metrics_conversion_ratio[df_final_metrics_conversion_ratio.Steps==\"start\"].Control.values\n",
        "df_final_metrics_conversion_ratio['test']=df_final_metrics_conversion_ratio['test']/df_final_metrics_conversion_ratio[df_final_metrics_conversion_ratio.Steps==\"start\"].test.values\n",
        "df_final_metrics_conversion_ratio\n"
      ],
      "execution_count": null,
      "outputs": [
        {
          "output_type": "execute_result",
          "data": {
            "text/html": [
              "<div>\n",
              "<style scoped>\n",
              "    .dataframe tbody tr th:only-of-type {\n",
              "        vertical-align: middle;\n",
              "    }\n",
              "\n",
              "    .dataframe tbody tr th {\n",
              "        vertical-align: top;\n",
              "    }\n",
              "\n",
              "    .dataframe thead th {\n",
              "        text-align: right;\n",
              "    }\n",
              "</style>\n",
              "<table border=\"1\" class=\"dataframe\">\n",
              "  <thead>\n",
              "    <tr style=\"text-align: right;\">\n",
              "      <th></th>\n",
              "      <th>Steps</th>\n",
              "      <th>Control</th>\n",
              "      <th>test</th>\n",
              "    </tr>\n",
              "  </thead>\n",
              "  <tbody>\n",
              "    <tr>\n",
              "      <th>0</th>\n",
              "      <td>start</td>\n",
              "      <td>1.000000</td>\n",
              "      <td>1.000000</td>\n",
              "    </tr>\n",
              "    <tr>\n",
              "      <th>1</th>\n",
              "      <td>step_1</td>\n",
              "      <td>0.841264</td>\n",
              "      <td>0.909049</td>\n",
              "    </tr>\n",
              "    <tr>\n",
              "      <th>2</th>\n",
              "      <td>step_2</td>\n",
              "      <td>0.781313</td>\n",
              "      <td>0.832614</td>\n",
              "    </tr>\n",
              "    <tr>\n",
              "      <th>3</th>\n",
              "      <td>step_3</td>\n",
              "      <td>0.726265</td>\n",
              "      <td>0.779100</td>\n",
              "    </tr>\n",
              "    <tr>\n",
              "      <th>4</th>\n",
              "      <td>confirm</td>\n",
              "      <td>0.633274</td>\n",
              "      <td>0.690400</td>\n",
              "    </tr>\n",
              "  </tbody>\n",
              "</table>\n",
              "</div>"
            ],
            "text/plain": [
              "     Steps   Control      test\n",
              "0    start  1.000000  1.000000\n",
              "1   step_1  0.841264  0.909049\n",
              "2   step_2  0.781313  0.832614\n",
              "3   step_3  0.726265  0.779100\n",
              "4  confirm  0.633274  0.690400"
            ]
          },
          "metadata": {},
          "execution_count": 37
        }
      ]
    },
    {
      "cell_type": "code",
      "metadata": {
        "id": "J26R-Ja8Y-v9",
        "colab": {
          "base_uri": "https://localhost:8080/",
          "height": 282
        },
        "outputId": "85bde67b-d39f-4ffa-be2a-11271dd2582a"
      },
      "source": [
        "#Creating visualization\n",
        "plt.plot(df_final_metrics_conversion_ratio.Steps,df_final_metrics_conversion_ratio.Control,label=\"Control\",marker='*')\n",
        "plt.plot(df_final_metrics_conversion_ratio.Steps,df_final_metrics_conversion_ratio.test,label=\"Test\",marker='*')\n",
        "plt.legend()\n",
        "plt.title(\"User Engagement\")\n",
        "plt.show()"
      ],
      "execution_count": null,
      "outputs": [
        {
          "output_type": "display_data",
          "data": {
            "image/png": "[encoded data removed]",
            "text/plain": [
              "<Figure size 432x288 with 1 Axes>"
            ]
          },
          "metadata": {
            "needs_background": "light"
          }
        }
      ]
    },
    {
      "cell_type": "markdown",
      "metadata": {
        "id": "nUWjdJRUDSU7"
      },
      "source": [
        "# Validating if we can run Z statistics\n",
        "\n",
        "\n"
      ]
    },
    {
      "cell_type": "markdown",
      "metadata": {
        "id": "486hBOF7FLDA"
      },
      "source": [
        "In order to qualify for hypothesis testing, our dataset should quality for below mentioned conditions\n",
        "\n",
        "1) Random: The data needs to come from a random sample or randomized experiment.\n",
        "- We have seen bar graphs of test and control group represents client data in same propotions by age, tenure. Hence, it is safe to assume that test and control group have records as a random sample, and it represents population.\n",
        "\n",
        "2) Normal: The sampling distribution of  p hat  needs to be approximately normal — needs at least 10 expected successes and 10 expected failures.\n",
        "- We see that nconversion rate for both the group is way greater than 10.\n",
        "- Test group conversion 15530 users\n",
        "- Control group conversion 11345 users\n",
        "- Also, non conversion is also fignificant higher\n"
      ]
    },
    {
      "cell_type": "markdown",
      "metadata": {
        "id": "VtZsmt8oE8iu"
      },
      "source": [
        "# Finding out Z score\n",
        "\n"
      ]
    },
    {
      "cell_type": "markdown",
      "metadata": {
        "id": "eqWoigUwMK7d"
      },
      "source": [
        "null hypothesis : H0= Test group conversion rate = Control group conversion rate\n",
        "\n",
        "Alternate hypothesis HA: Test group conversion rate > Control group conversion rate\n",
        "\n",
        "Taking confidence level 95%\n",
        "Hence, alpha= 0.05\n"
      ]
    },
    {
      "cell_type": "code",
      "metadata": {
        "id": "emz9-zUoOYS0",
        "colab": {
          "base_uri": "https://localhost:8080/"
        },
        "outputId": "757e639f-6cdf-43e8-a44d-a0c61b4405a4"
      },
      "source": [
        "# Creating Z statistics and P statistics\n",
        "\n",
        "n_con=df_final_metrics_conversion[df_final_metrics_conversion.Steps=='start'].Control.iloc[0]\n",
        "n_test=df_final_metrics_conversion[df_final_metrics_conversion.Steps=='start'].test.iloc[0]\n",
        "successes=[df_final_metrics_conversion[df_final_metrics_conversion.Steps=='confirm'].test.iloc[0], \n",
        "           df_final_metrics_conversion[df_final_metrics_conversion.Steps=='confirm'].Control.iloc[0]]\n",
        "nobs=[n_test,n_con]\n",
        "\n",
        "nobs=[n_test,n_con]\n",
        "\n",
        "z_stat,pval=proportions_ztest(successes,nobs=nobs,alternative='larger')\n",
        "(lower_test,lower_conv),(upper_test,upper_conv)=proportion_confint(successes,nobs=nobs, alpha=0.005)\n",
        "print(\"Z value:\",z_stat)\n",
        "print(\"P Value:\",format(pval,\".2f\"))\n",
        "\n",
        "print(\"\\n\\n\\nTest Value range:\", lower_test,upper_test )\n",
        "print(\"Control Value range:\", lower_conv,upper_conv )\n",
        "\n",
        "\n"
      ],
      "execution_count": null,
      "outputs": [
        {
          "output_type": "stream",
          "name": "stdout",
          "text": [
            "Z value: 12.00076468707902\n",
            "P Value: 0.00\n",
            "\n",
            "\n",
            "\n",
            "Test Value range: 0.6816039522890585 0.6991953127545796\n",
            "Control Value range: 0.6231765779491998 0.6433712268201339\n"
          ]
        }
      ]
    },
    {
      "cell_type": "markdown",
      "metadata": {
        "id": "2zd3QfTcYDcW"
      },
      "source": [
        "Since P value is much smaller than 0.05 significance level, we reject null hypothesis and we conclude that conversion rate for the test group is higher than control group. "
      ]
    },
    {
      "cell_type": "code",
      "metadata": {
        "colab": {
          "base_uri": "https://localhost:8080/"
        },
        "id": "TM3cIDm8mplu",
        "outputId": "2d91a098-7c71-421e-c121-5ee7f4e4d23f"
      },
      "source": [
        "# Alternate way to find out Z value\n",
        "# Population\n",
        "n_control = df_final_metrics_conversion[df_final_metrics_conversion.Steps=='start'].Control.iloc[0]\n",
        "n_variant = df_final_metrics_conversion[df_final_metrics_conversion.Steps=='start'].test.iloc[0]\n",
        "print (n_control,n_variant)\n",
        "# Conversion rate\n",
        "crv_control = df_final_metrics_conversion[df_final_metrics_conversion.Steps=='confirm'].Control.iloc[0]/df_final_metrics_conversion[df_final_metrics_conversion.Steps=='start'].Control.iloc[0]\n",
        "crv_variant = df_final_metrics_conversion[df_final_metrics_conversion.Steps=='confirm'].test.iloc[0]/df_final_metrics_conversion[df_final_metrics_conversion.Steps=='start'].test.iloc[0]\n",
        "print (crv_control,crv_variant)\n",
        "var_control = crv_control * (1-crv_control) \n",
        "var_variant = crv_variant * (1-crv_variant)\n",
        "\n",
        "conversions_control = crv_control * n_control\n",
        "conversions_variant = crv_variant * n_variant\n",
        "print('N - Control: {:0.0f} , Variant: {:0.0f}'.format(n_control, n_variant))\n",
        "print('CRV - Control: {:0.4f} , Variant: {:0.4f}'.format(crv_control, crv_variant))\n",
        "print('Conversions -  Control: {:0.0f} , Variant: {:0.0f}'.format(conversions_control, conversions_variant))\n",
        "print('Var -  Control: {:0.4f} , Variant: {:0.4f}'.format(var_control, var_variant))\n",
        "\n",
        "# Create combined random variable S\n",
        "mean_control = crv_control\n",
        "mean_variant = crv_variant\n",
        "S_mean = mean_variant - mean_control\n",
        "S_var = (var_control/n_control) + (var_variant/n_variant)\n",
        "\n",
        "print('------------')\n",
        "Z_score = S_mean / np.sqrt(S_var)\n",
        "print('Z-score: {:0.4f}'.format(Z_score))"
      ],
      "execution_count": null,
      "outputs": [
        {
          "output_type": "stream",
          "name": "stdout",
          "text": [
            "17948 21770\n",
            "0.6332739023846669 0.690399632521819\n",
            "N - Control: 17948 , Variant: 21770\n",
            "CRV - Control: 0.6333 , Variant: 0.6904\n",
            "Conversions -  Control: 11366 , Variant: 15030\n",
            "Var -  Control: 0.2322 , Variant: 0.2137\n",
            "------------\n",
            "Z-score: 11.9747\n"
          ]
        }
      ]
    },
    {
      "cell_type": "code",
      "metadata": {
        "colab": {
          "base_uri": "https://localhost:8080/"
        },
        "id": "wOBs7DxPehAt",
        "outputId": "96318f93-a4c9-45d8-f969-b6fbe149bcf0"
      },
      "source": [
        "# Finding P value\n",
        "p_value_1_tail = 1-st.norm.cdf(2.6534)\n",
        "print('p-value: {:0.6f}'.format(p_value_1_tail))"
      ],
      "execution_count": null,
      "outputs": [
        {
          "output_type": "stream",
          "name": "stdout",
          "text": [
            "p-value: 0.003984\n"
          ]
        }
      ]
    },
    {
      "cell_type": "markdown",
      "metadata": {
        "id": "1FviddIwd-ro"
      },
      "source": [
        "# P Value corrosponding to Z=11.97 is around 0.004. Since P value is much smaller than 0.05 significance level, we reject null hypothesis and we conclude that conversion rate for the test group is higher than control group. "
      ]
    },
    {
      "cell_type": "markdown",
      "metadata": {
        "id": "s4t9J-aPnnm6"
      },
      "source": [
        ""
      ]
    },
    {
      "cell_type": "markdown",
      "metadata": {
        "id": "zsjLXbwgnnzo"
      },
      "source": [
        ""
      ]
    },
    {
      "cell_type": "markdown",
      "metadata": {
        "id": "Gz3-V8rAnn_t"
      },
      "source": [
        ""
      ]
    },
    {
      "cell_type": "markdown",
      "metadata": {
        "id": "KjOxDLgCnoRH"
      },
      "source": [
        ""
      ]
    }
  ]
}