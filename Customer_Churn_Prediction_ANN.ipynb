{
  "nbformat": 4,
  "nbformat_minor": 0,
  "metadata": {
    "colab": {
      "provenance": [],
      "collapsed_sections": [],
      "authorship_tag": "ABX9TyOpY8awQvLy9scKYi9VoHzM",
      "include_colab_link": true
    },
    "kernelspec": {
      "name": "python3",
      "display_name": "Python 3"
    },
    "language_info": {
      "name": "python"
    }
  },
  "cells": [
    {
      "cell_type": "markdown",
      "metadata": {
        "id": "view-in-github",
        "colab_type": "text"
      },
      "source": [
        "<a href=\"https://colab.research.google.com/github/parthpendal/Projects---Data-Analysis-and-Machine-Learning/blob/main/Customer_Churn_Prediction_ANN.ipynb\" target=\"_parent\"><img src=\"https://colab.research.google.com/assets/colab-badge.svg\" alt=\"Open In Colab\"/></a>"
      ]
    },
    {
      "cell_type": "code",
      "execution_count": null,
      "metadata": {
        "id": "1BQHSEy6Is37"
      },
      "outputs": [],
      "source": [
        "import pandas as pd\n",
        "import numpy as np\n",
        "from tensorflow import keras"
      ]
    },
    {
      "cell_type": "code",
      "source": [
        "df=pd.read_csv(\"Customer-Churn.csv\")"
      ],
      "metadata": {
        "id": "CozBH4oBI9lq"
      },
      "execution_count": null,
      "outputs": []
    },
    {
      "cell_type": "code",
      "source": [
        "df.head()"
      ],
      "metadata": {
        "colab": {
          "base_uri": "https://localhost:8080/",
          "height": 357
        },
        "id": "hPbp8_jBKNMF",
        "outputId": "245a089c-bf11-4735-9701-0dc4e23415e7"
      },
      "execution_count": null,
      "outputs": [
        {
          "output_type": "execute_result",
          "data": {
            "text/html": [
              "\n",
              "  <div id=\"df-f6edf370-e4ea-4bcd-93ed-9be1ed5e629b\">\n",
              "    <div class=\"colab-df-container\">\n",
              "      <div>\n",
              "<style scoped>\n",
              "    .dataframe tbody tr th:only-of-type {\n",
              "        vertical-align: middle;\n",
              "    }\n",
              "\n",
              "    .dataframe tbody tr th {\n",
              "        vertical-align: top;\n",
              "    }\n",
              "\n",
              "    .dataframe thead th {\n",
              "        text-align: right;\n",
              "    }\n",
              "</style>\n",
              "<table border=\"1\" class=\"dataframe\">\n",
              "  <thead>\n",
              "    <tr style=\"text-align: right;\">\n",
              "      <th></th>\n",
              "      <th>customerID</th>\n",
              "      <th>gender</th>\n",
              "      <th>SeniorCitizen</th>\n",
              "      <th>Partner</th>\n",
              "      <th>Dependents</th>\n",
              "      <th>tenure</th>\n",
              "      <th>PhoneService</th>\n",
              "      <th>MultipleLines</th>\n",
              "      <th>InternetService</th>\n",
              "      <th>OnlineSecurity</th>\n",
              "      <th>OnlineBackup</th>\n",
              "      <th>DeviceProtection</th>\n",
              "      <th>TechSupport</th>\n",
              "      <th>StreamingTV</th>\n",
              "      <th>StreamingMovies</th>\n",
              "      <th>Contract</th>\n",
              "      <th>PaperlessBilling</th>\n",
              "      <th>PaymentMethod</th>\n",
              "      <th>MonthlyCharges</th>\n",
              "      <th>TotalCharges</th>\n",
              "      <th>Churn</th>\n",
              "    </tr>\n",
              "  </thead>\n",
              "  <tbody>\n",
              "    <tr>\n",
              "      <th>0</th>\n",
              "      <td>7590-VHVEG</td>\n",
              "      <td>Female</td>\n",
              "      <td>0</td>\n",
              "      <td>Yes</td>\n",
              "      <td>No</td>\n",
              "      <td>1</td>\n",
              "      <td>No</td>\n",
              "      <td>No phone service</td>\n",
              "      <td>DSL</td>\n",
              "      <td>No</td>\n",
              "      <td>Yes</td>\n",
              "      <td>No</td>\n",
              "      <td>No</td>\n",
              "      <td>No</td>\n",
              "      <td>No</td>\n",
              "      <td>Month-to-month</td>\n",
              "      <td>Yes</td>\n",
              "      <td>Electronic check</td>\n",
              "      <td>29.85</td>\n",
              "      <td>29.85</td>\n",
              "      <td>No</td>\n",
              "    </tr>\n",
              "    <tr>\n",
              "      <th>1</th>\n",
              "      <td>5575-GNVDE</td>\n",
              "      <td>Male</td>\n",
              "      <td>0</td>\n",
              "      <td>No</td>\n",
              "      <td>No</td>\n",
              "      <td>34</td>\n",
              "      <td>Yes</td>\n",
              "      <td>No</td>\n",
              "      <td>DSL</td>\n",
              "      <td>Yes</td>\n",
              "      <td>No</td>\n",
              "      <td>Yes</td>\n",
              "      <td>No</td>\n",
              "      <td>No</td>\n",
              "      <td>No</td>\n",
              "      <td>One year</td>\n",
              "      <td>No</td>\n",
              "      <td>Mailed check</td>\n",
              "      <td>56.95</td>\n",
              "      <td>1889.5</td>\n",
              "      <td>No</td>\n",
              "    </tr>\n",
              "    <tr>\n",
              "      <th>2</th>\n",
              "      <td>3668-QPYBK</td>\n",
              "      <td>Male</td>\n",
              "      <td>0</td>\n",
              "      <td>No</td>\n",
              "      <td>No</td>\n",
              "      <td>2</td>\n",
              "      <td>Yes</td>\n",
              "      <td>No</td>\n",
              "      <td>DSL</td>\n",
              "      <td>Yes</td>\n",
              "      <td>Yes</td>\n",
              "      <td>No</td>\n",
              "      <td>No</td>\n",
              "      <td>No</td>\n",
              "      <td>No</td>\n",
              "      <td>Month-to-month</td>\n",
              "      <td>Yes</td>\n",
              "      <td>Mailed check</td>\n",
              "      <td>53.85</td>\n",
              "      <td>108.15</td>\n",
              "      <td>Yes</td>\n",
              "    </tr>\n",
              "    <tr>\n",
              "      <th>3</th>\n",
              "      <td>7795-CFOCW</td>\n",
              "      <td>Male</td>\n",
              "      <td>0</td>\n",
              "      <td>No</td>\n",
              "      <td>No</td>\n",
              "      <td>45</td>\n",
              "      <td>No</td>\n",
              "      <td>No phone service</td>\n",
              "      <td>DSL</td>\n",
              "      <td>Yes</td>\n",
              "      <td>No</td>\n",
              "      <td>Yes</td>\n",
              "      <td>Yes</td>\n",
              "      <td>No</td>\n",
              "      <td>No</td>\n",
              "      <td>One year</td>\n",
              "      <td>No</td>\n",
              "      <td>Bank transfer (automatic)</td>\n",
              "      <td>42.30</td>\n",
              "      <td>1840.75</td>\n",
              "      <td>No</td>\n",
              "    </tr>\n",
              "    <tr>\n",
              "      <th>4</th>\n",
              "      <td>9237-HQITU</td>\n",
              "      <td>Female</td>\n",
              "      <td>0</td>\n",
              "      <td>No</td>\n",
              "      <td>No</td>\n",
              "      <td>2</td>\n",
              "      <td>Yes</td>\n",
              "      <td>No</td>\n",
              "      <td>Fiber optic</td>\n",
              "      <td>No</td>\n",
              "      <td>No</td>\n",
              "      <td>No</td>\n",
              "      <td>No</td>\n",
              "      <td>No</td>\n",
              "      <td>No</td>\n",
              "      <td>Month-to-month</td>\n",
              "      <td>Yes</td>\n",
              "      <td>Electronic check</td>\n",
              "      <td>70.70</td>\n",
              "      <td>151.65</td>\n",
              "      <td>Yes</td>\n",
              "    </tr>\n",
              "  </tbody>\n",
              "</table>\n",
              "</div>\n",
              "      <button class=\"colab-df-convert\" onclick=\"convertToInteractive('df-f6edf370-e4ea-4bcd-93ed-9be1ed5e629b')\"\n",
              "              title=\"Convert this dataframe to an interactive table.\"\n",
              "              style=\"display:none;\">\n",
              "        \n",
              "  <svg xmlns=\"http://www.w3.org/2000/svg\" height=\"24px\"viewBox=\"0 0 24 24\"\n",
              "       width=\"24px\">\n",
              "    <path d=\"M0 0h24v24H0V0z\" fill=\"none\"/>\n",
              "    <path d=\"M18.56 5.44l.94 2.06.94-2.06 2.06-.94-2.06-.94-.94-2.06-.94 2.06-2.06.94zm-11 1L8.5 8.5l.94-2.06 2.06-.94-2.06-.94L8.5 2.5l-.94 2.06-2.06.94zm10 10l.94 2.06.94-2.06 2.06-.94-2.06-.94-.94-2.06-.94 2.06-2.06.94z\"/><path d=\"M17.41 7.96l-1.37-1.37c-.4-.4-.92-.59-1.43-.59-.52 0-1.04.2-1.43.59L10.3 9.45l-7.72 7.72c-.78.78-.78 2.05 0 2.83L4 21.41c.39.39.9.59 1.41.59.51 0 1.02-.2 1.41-.59l7.78-7.78 2.81-2.81c.8-.78.8-2.07 0-2.86zM5.41 20L4 18.59l7.72-7.72 1.47 1.35L5.41 20z\"/>\n",
              "  </svg>\n",
              "      </button>\n",
              "      \n",
              "  <style>\n",
              "    .colab-df-container {\n",
              "      display:flex;\n",
              "      flex-wrap:wrap;\n",
              "      gap: 12px;\n",
              "    }\n",
              "\n",
              "    .colab-df-convert {\n",
              "      background-color: #E8F0FE;\n",
              "      border: none;\n",
              "      border-radius: 50%;\n",
              "      cursor: pointer;\n",
              "      display: none;\n",
              "      fill: #1967D2;\n",
              "      height: 32px;\n",
              "      padding: 0 0 0 0;\n",
              "      width: 32px;\n",
              "    }\n",
              "\n",
              "    .colab-df-convert:hover {\n",
              "      background-color: #E2EBFA;\n",
              "      box-shadow: 0px 1px 2px rgba(60, 64, 67, 0.3), 0px 1px 3px 1px rgba(60, 64, 67, 0.15);\n",
              "      fill: #174EA6;\n",
              "    }\n",
              "\n",
              "    [theme=dark] .colab-df-convert {\n",
              "      background-color: #3B4455;\n",
              "      fill: #D2E3FC;\n",
              "    }\n",
              "\n",
              "    [theme=dark] .colab-df-convert:hover {\n",
              "      background-color: #434B5C;\n",
              "      box-shadow: 0px 1px 3px 1px rgba(0, 0, 0, 0.15);\n",
              "      filter: drop-shadow(0px 1px 2px rgba(0, 0, 0, 0.3));\n",
              "      fill: #FFFFFF;\n",
              "    }\n",
              "  </style>\n",
              "\n",
              "      <script>\n",
              "        const buttonEl =\n",
              "          document.querySelector('#df-f6edf370-e4ea-4bcd-93ed-9be1ed5e629b button.colab-df-convert');\n",
              "        buttonEl.style.display =\n",
              "          google.colab.kernel.accessAllowed ? 'block' : 'none';\n",
              "\n",
              "        async function convertToInteractive(key) {\n",
              "          const element = document.querySelector('#df-f6edf370-e4ea-4bcd-93ed-9be1ed5e629b');\n",
              "          const dataTable =\n",
              "            await google.colab.kernel.invokeFunction('convertToInteractive',\n",
              "                                                     [key], {});\n",
              "          if (!dataTable) return;\n",
              "\n",
              "          const docLinkHtml = 'Like what you see? Visit the ' +\n",
              "            '<a target=\"_blank\" href=https://colab.research.google.com/notebooks/data_table.ipynb>data table notebook</a>'\n",
              "            + ' to learn more about interactive tables.';\n",
              "          element.innerHTML = '';\n",
              "          dataTable['output_type'] = 'display_data';\n",
              "          await google.colab.output.renderOutput(dataTable, element);\n",
              "          const docLink = document.createElement('div');\n",
              "          docLink.innerHTML = docLinkHtml;\n",
              "          element.appendChild(docLink);\n",
              "        }\n",
              "      </script>\n",
              "    </div>\n",
              "  </div>\n",
              "  "
            ],
            "text/plain": [
              "   customerID  gender  SeniorCitizen  ... MonthlyCharges TotalCharges  Churn\n",
              "0  7590-VHVEG  Female              0  ...          29.85        29.85     No\n",
              "1  5575-GNVDE    Male              0  ...          56.95       1889.5     No\n",
              "2  3668-QPYBK    Male              0  ...          53.85       108.15    Yes\n",
              "3  7795-CFOCW    Male              0  ...          42.30      1840.75     No\n",
              "4  9237-HQITU  Female              0  ...          70.70       151.65    Yes\n",
              "\n",
              "[5 rows x 21 columns]"
            ]
          },
          "metadata": {},
          "execution_count": 5
        }
      ]
    },
    {
      "cell_type": "code",
      "source": [
        "df.drop(\"customerID\",axis=1, inplace=True)\n"
      ],
      "metadata": {
        "id": "WC3bdvuUKOPT"
      },
      "execution_count": null,
      "outputs": []
    },
    {
      "cell_type": "code",
      "source": [
        "df.head()"
      ],
      "metadata": {
        "colab": {
          "base_uri": "https://localhost:8080/",
          "height": 339
        },
        "id": "U-lad0AOKV1u",
        "outputId": "716ae16d-dc87-401c-d0fe-26f1ef500cdd"
      },
      "execution_count": null,
      "outputs": [
        {
          "output_type": "execute_result",
          "data": {
            "text/html": [
              "\n",
              "  <div id=\"df-814adade-a0eb-4490-b4af-2f594f8d3e75\">\n",
              "    <div class=\"colab-df-container\">\n",
              "      <div>\n",
              "<style scoped>\n",
              "    .dataframe tbody tr th:only-of-type {\n",
              "        vertical-align: middle;\n",
              "    }\n",
              "\n",
              "    .dataframe tbody tr th {\n",
              "        vertical-align: top;\n",
              "    }\n",
              "\n",
              "    .dataframe thead th {\n",
              "        text-align: right;\n",
              "    }\n",
              "</style>\n",
              "<table border=\"1\" class=\"dataframe\">\n",
              "  <thead>\n",
              "    <tr style=\"text-align: right;\">\n",
              "      <th></th>\n",
              "      <th>gender</th>\n",
              "      <th>SeniorCitizen</th>\n",
              "      <th>Partner</th>\n",
              "      <th>Dependents</th>\n",
              "      <th>tenure</th>\n",
              "      <th>PhoneService</th>\n",
              "      <th>MultipleLines</th>\n",
              "      <th>InternetService</th>\n",
              "      <th>OnlineSecurity</th>\n",
              "      <th>OnlineBackup</th>\n",
              "      <th>DeviceProtection</th>\n",
              "      <th>TechSupport</th>\n",
              "      <th>StreamingTV</th>\n",
              "      <th>StreamingMovies</th>\n",
              "      <th>Contract</th>\n",
              "      <th>PaperlessBilling</th>\n",
              "      <th>PaymentMethod</th>\n",
              "      <th>MonthlyCharges</th>\n",
              "      <th>TotalCharges</th>\n",
              "      <th>Churn</th>\n",
              "    </tr>\n",
              "  </thead>\n",
              "  <tbody>\n",
              "    <tr>\n",
              "      <th>0</th>\n",
              "      <td>Female</td>\n",
              "      <td>0</td>\n",
              "      <td>Yes</td>\n",
              "      <td>No</td>\n",
              "      <td>1</td>\n",
              "      <td>No</td>\n",
              "      <td>No phone service</td>\n",
              "      <td>DSL</td>\n",
              "      <td>No</td>\n",
              "      <td>Yes</td>\n",
              "      <td>No</td>\n",
              "      <td>No</td>\n",
              "      <td>No</td>\n",
              "      <td>No</td>\n",
              "      <td>Month-to-month</td>\n",
              "      <td>Yes</td>\n",
              "      <td>Electronic check</td>\n",
              "      <td>29.85</td>\n",
              "      <td>29.85</td>\n",
              "      <td>No</td>\n",
              "    </tr>\n",
              "    <tr>\n",
              "      <th>1</th>\n",
              "      <td>Male</td>\n",
              "      <td>0</td>\n",
              "      <td>No</td>\n",
              "      <td>No</td>\n",
              "      <td>34</td>\n",
              "      <td>Yes</td>\n",
              "      <td>No</td>\n",
              "      <td>DSL</td>\n",
              "      <td>Yes</td>\n",
              "      <td>No</td>\n",
              "      <td>Yes</td>\n",
              "      <td>No</td>\n",
              "      <td>No</td>\n",
              "      <td>No</td>\n",
              "      <td>One year</td>\n",
              "      <td>No</td>\n",
              "      <td>Mailed check</td>\n",
              "      <td>56.95</td>\n",
              "      <td>1889.5</td>\n",
              "      <td>No</td>\n",
              "    </tr>\n",
              "    <tr>\n",
              "      <th>2</th>\n",
              "      <td>Male</td>\n",
              "      <td>0</td>\n",
              "      <td>No</td>\n",
              "      <td>No</td>\n",
              "      <td>2</td>\n",
              "      <td>Yes</td>\n",
              "      <td>No</td>\n",
              "      <td>DSL</td>\n",
              "      <td>Yes</td>\n",
              "      <td>Yes</td>\n",
              "      <td>No</td>\n",
              "      <td>No</td>\n",
              "      <td>No</td>\n",
              "      <td>No</td>\n",
              "      <td>Month-to-month</td>\n",
              "      <td>Yes</td>\n",
              "      <td>Mailed check</td>\n",
              "      <td>53.85</td>\n",
              "      <td>108.15</td>\n",
              "      <td>Yes</td>\n",
              "    </tr>\n",
              "    <tr>\n",
              "      <th>3</th>\n",
              "      <td>Male</td>\n",
              "      <td>0</td>\n",
              "      <td>No</td>\n",
              "      <td>No</td>\n",
              "      <td>45</td>\n",
              "      <td>No</td>\n",
              "      <td>No phone service</td>\n",
              "      <td>DSL</td>\n",
              "      <td>Yes</td>\n",
              "      <td>No</td>\n",
              "      <td>Yes</td>\n",
              "      <td>Yes</td>\n",
              "      <td>No</td>\n",
              "      <td>No</td>\n",
              "      <td>One year</td>\n",
              "      <td>No</td>\n",
              "      <td>Bank transfer (automatic)</td>\n",
              "      <td>42.30</td>\n",
              "      <td>1840.75</td>\n",
              "      <td>No</td>\n",
              "    </tr>\n",
              "    <tr>\n",
              "      <th>4</th>\n",
              "      <td>Female</td>\n",
              "      <td>0</td>\n",
              "      <td>No</td>\n",
              "      <td>No</td>\n",
              "      <td>2</td>\n",
              "      <td>Yes</td>\n",
              "      <td>No</td>\n",
              "      <td>Fiber optic</td>\n",
              "      <td>No</td>\n",
              "      <td>No</td>\n",
              "      <td>No</td>\n",
              "      <td>No</td>\n",
              "      <td>No</td>\n",
              "      <td>No</td>\n",
              "      <td>Month-to-month</td>\n",
              "      <td>Yes</td>\n",
              "      <td>Electronic check</td>\n",
              "      <td>70.70</td>\n",
              "      <td>151.65</td>\n",
              "      <td>Yes</td>\n",
              "    </tr>\n",
              "  </tbody>\n",
              "</table>\n",
              "</div>\n",
              "      <button class=\"colab-df-convert\" onclick=\"convertToInteractive('df-814adade-a0eb-4490-b4af-2f594f8d3e75')\"\n",
              "              title=\"Convert this dataframe to an interactive table.\"\n",
              "              style=\"display:none;\">\n",
              "        \n",
              "  <svg xmlns=\"http://www.w3.org/2000/svg\" height=\"24px\"viewBox=\"0 0 24 24\"\n",
              "       width=\"24px\">\n",
              "    <path d=\"M0 0h24v24H0V0z\" fill=\"none\"/>\n",
              "    <path d=\"M18.56 5.44l.94 2.06.94-2.06 2.06-.94-2.06-.94-.94-2.06-.94 2.06-2.06.94zm-11 1L8.5 8.5l.94-2.06 2.06-.94-2.06-.94L8.5 2.5l-.94 2.06-2.06.94zm10 10l.94 2.06.94-2.06 2.06-.94-2.06-.94-.94-2.06-.94 2.06-2.06.94z\"/><path d=\"M17.41 7.96l-1.37-1.37c-.4-.4-.92-.59-1.43-.59-.52 0-1.04.2-1.43.59L10.3 9.45l-7.72 7.72c-.78.78-.78 2.05 0 2.83L4 21.41c.39.39.9.59 1.41.59.51 0 1.02-.2 1.41-.59l7.78-7.78 2.81-2.81c.8-.78.8-2.07 0-2.86zM5.41 20L4 18.59l7.72-7.72 1.47 1.35L5.41 20z\"/>\n",
              "  </svg>\n",
              "      </button>\n",
              "      \n",
              "  <style>\n",
              "    .colab-df-container {\n",
              "      display:flex;\n",
              "      flex-wrap:wrap;\n",
              "      gap: 12px;\n",
              "    }\n",
              "\n",
              "    .colab-df-convert {\n",
              "      background-color: #E8F0FE;\n",
              "      border: none;\n",
              "      border-radius: 50%;\n",
              "      cursor: pointer;\n",
              "      display: none;\n",
              "      fill: #1967D2;\n",
              "      height: 32px;\n",
              "      padding: 0 0 0 0;\n",
              "      width: 32px;\n",
              "    }\n",
              "\n",
              "    .colab-df-convert:hover {\n",
              "      background-color: #E2EBFA;\n",
              "      box-shadow: 0px 1px 2px rgba(60, 64, 67, 0.3), 0px 1px 3px 1px rgba(60, 64, 67, 0.15);\n",
              "      fill: #174EA6;\n",
              "    }\n",
              "\n",
              "    [theme=dark] .colab-df-convert {\n",
              "      background-color: #3B4455;\n",
              "      fill: #D2E3FC;\n",
              "    }\n",
              "\n",
              "    [theme=dark] .colab-df-convert:hover {\n",
              "      background-color: #434B5C;\n",
              "      box-shadow: 0px 1px 3px 1px rgba(0, 0, 0, 0.15);\n",
              "      filter: drop-shadow(0px 1px 2px rgba(0, 0, 0, 0.3));\n",
              "      fill: #FFFFFF;\n",
              "    }\n",
              "  </style>\n",
              "\n",
              "      <script>\n",
              "        const buttonEl =\n",
              "          document.querySelector('#df-814adade-a0eb-4490-b4af-2f594f8d3e75 button.colab-df-convert');\n",
              "        buttonEl.style.display =\n",
              "          google.colab.kernel.accessAllowed ? 'block' : 'none';\n",
              "\n",
              "        async function convertToInteractive(key) {\n",
              "          const element = document.querySelector('#df-814adade-a0eb-4490-b4af-2f594f8d3e75');\n",
              "          const dataTable =\n",
              "            await google.colab.kernel.invokeFunction('convertToInteractive',\n",
              "                                                     [key], {});\n",
              "          if (!dataTable) return;\n",
              "\n",
              "          const docLinkHtml = 'Like what you see? Visit the ' +\n",
              "            '<a target=\"_blank\" href=https://colab.research.google.com/notebooks/data_table.ipynb>data table notebook</a>'\n",
              "            + ' to learn more about interactive tables.';\n",
              "          element.innerHTML = '';\n",
              "          dataTable['output_type'] = 'display_data';\n",
              "          await google.colab.output.renderOutput(dataTable, element);\n",
              "          const docLink = document.createElement('div');\n",
              "          docLink.innerHTML = docLinkHtml;\n",
              "          element.appendChild(docLink);\n",
              "        }\n",
              "      </script>\n",
              "    </div>\n",
              "  </div>\n",
              "  "
            ],
            "text/plain": [
              "   gender  SeniorCitizen Partner  ... MonthlyCharges  TotalCharges Churn\n",
              "0  Female              0     Yes  ...          29.85         29.85    No\n",
              "1    Male              0      No  ...          56.95        1889.5    No\n",
              "2    Male              0      No  ...          53.85        108.15   Yes\n",
              "3    Male              0      No  ...          42.30       1840.75    No\n",
              "4  Female              0      No  ...          70.70        151.65   Yes\n",
              "\n",
              "[5 rows x 20 columns]"
            ]
          },
          "metadata": {},
          "execution_count": 7
        }
      ]
    },
    {
      "cell_type": "code",
      "source": [
        "df.dtypes"
      ],
      "metadata": {
        "colab": {
          "base_uri": "https://localhost:8080/"
        },
        "id": "kVf5MeIBKX5q",
        "outputId": "662030ea-af7c-4123-d628-44aa54617530"
      },
      "execution_count": null,
      "outputs": [
        {
          "output_type": "execute_result",
          "data": {
            "text/plain": [
              "gender               object\n",
              "SeniorCitizen         int64\n",
              "Partner              object\n",
              "Dependents           object\n",
              "tenure                int64\n",
              "PhoneService         object\n",
              "MultipleLines        object\n",
              "InternetService      object\n",
              "OnlineSecurity       object\n",
              "OnlineBackup         object\n",
              "DeviceProtection     object\n",
              "TechSupport          object\n",
              "StreamingTV          object\n",
              "StreamingMovies      object\n",
              "Contract             object\n",
              "PaperlessBilling     object\n",
              "PaymentMethod        object\n",
              "MonthlyCharges      float64\n",
              "TotalCharges         object\n",
              "Churn                object\n",
              "dtype: object"
            ]
          },
          "metadata": {},
          "execution_count": 8
        }
      ]
    },
    {
      "cell_type": "code",
      "source": [
        "df[pd.to_numeric(df.TotalCharges,errors='coerce').isnull()]"
      ],
      "metadata": {
        "colab": {
          "base_uri": "https://localhost:8080/",
          "height": 614
        },
        "id": "RdsR8znIKgdF",
        "outputId": "17a614eb-b79e-4433-d411-8ef22359e6b5"
      },
      "execution_count": null,
      "outputs": [
        {
          "output_type": "execute_result",
          "data": {
            "text/html": [
              "\n",
              "  <div id=\"df-1d40ea92-dae4-4a2b-b50b-770a7dfa0934\">\n",
              "    <div class=\"colab-df-container\">\n",
              "      <div>\n",
              "<style scoped>\n",
              "    .dataframe tbody tr th:only-of-type {\n",
              "        vertical-align: middle;\n",
              "    }\n",
              "\n",
              "    .dataframe tbody tr th {\n",
              "        vertical-align: top;\n",
              "    }\n",
              "\n",
              "    .dataframe thead th {\n",
              "        text-align: right;\n",
              "    }\n",
              "</style>\n",
              "<table border=\"1\" class=\"dataframe\">\n",
              "  <thead>\n",
              "    <tr style=\"text-align: right;\">\n",
              "      <th></th>\n",
              "      <th>gender</th>\n",
              "      <th>SeniorCitizen</th>\n",
              "      <th>Partner</th>\n",
              "      <th>Dependents</th>\n",
              "      <th>tenure</th>\n",
              "      <th>PhoneService</th>\n",
              "      <th>MultipleLines</th>\n",
              "      <th>InternetService</th>\n",
              "      <th>OnlineSecurity</th>\n",
              "      <th>OnlineBackup</th>\n",
              "      <th>DeviceProtection</th>\n",
              "      <th>TechSupport</th>\n",
              "      <th>StreamingTV</th>\n",
              "      <th>StreamingMovies</th>\n",
              "      <th>Contract</th>\n",
              "      <th>PaperlessBilling</th>\n",
              "      <th>PaymentMethod</th>\n",
              "      <th>MonthlyCharges</th>\n",
              "      <th>TotalCharges</th>\n",
              "      <th>Churn</th>\n",
              "    </tr>\n",
              "  </thead>\n",
              "  <tbody>\n",
              "    <tr>\n",
              "      <th>488</th>\n",
              "      <td>Female</td>\n",
              "      <td>0</td>\n",
              "      <td>Yes</td>\n",
              "      <td>Yes</td>\n",
              "      <td>0</td>\n",
              "      <td>No</td>\n",
              "      <td>No phone service</td>\n",
              "      <td>DSL</td>\n",
              "      <td>Yes</td>\n",
              "      <td>No</td>\n",
              "      <td>Yes</td>\n",
              "      <td>Yes</td>\n",
              "      <td>Yes</td>\n",
              "      <td>No</td>\n",
              "      <td>Two year</td>\n",
              "      <td>Yes</td>\n",
              "      <td>Bank transfer (automatic)</td>\n",
              "      <td>52.55</td>\n",
              "      <td></td>\n",
              "      <td>No</td>\n",
              "    </tr>\n",
              "    <tr>\n",
              "      <th>753</th>\n",
              "      <td>Male</td>\n",
              "      <td>0</td>\n",
              "      <td>No</td>\n",
              "      <td>Yes</td>\n",
              "      <td>0</td>\n",
              "      <td>Yes</td>\n",
              "      <td>No</td>\n",
              "      <td>No</td>\n",
              "      <td>No internet service</td>\n",
              "      <td>No internet service</td>\n",
              "      <td>No internet service</td>\n",
              "      <td>No internet service</td>\n",
              "      <td>No internet service</td>\n",
              "      <td>No internet service</td>\n",
              "      <td>Two year</td>\n",
              "      <td>No</td>\n",
              "      <td>Mailed check</td>\n",
              "      <td>20.25</td>\n",
              "      <td></td>\n",
              "      <td>No</td>\n",
              "    </tr>\n",
              "    <tr>\n",
              "      <th>936</th>\n",
              "      <td>Female</td>\n",
              "      <td>0</td>\n",
              "      <td>Yes</td>\n",
              "      <td>Yes</td>\n",
              "      <td>0</td>\n",
              "      <td>Yes</td>\n",
              "      <td>No</td>\n",
              "      <td>DSL</td>\n",
              "      <td>Yes</td>\n",
              "      <td>Yes</td>\n",
              "      <td>Yes</td>\n",
              "      <td>No</td>\n",
              "      <td>Yes</td>\n",
              "      <td>Yes</td>\n",
              "      <td>Two year</td>\n",
              "      <td>No</td>\n",
              "      <td>Mailed check</td>\n",
              "      <td>80.85</td>\n",
              "      <td></td>\n",
              "      <td>No</td>\n",
              "    </tr>\n",
              "    <tr>\n",
              "      <th>1082</th>\n",
              "      <td>Male</td>\n",
              "      <td>0</td>\n",
              "      <td>Yes</td>\n",
              "      <td>Yes</td>\n",
              "      <td>0</td>\n",
              "      <td>Yes</td>\n",
              "      <td>Yes</td>\n",
              "      <td>No</td>\n",
              "      <td>No internet service</td>\n",
              "      <td>No internet service</td>\n",
              "      <td>No internet service</td>\n",
              "      <td>No internet service</td>\n",
              "      <td>No internet service</td>\n",
              "      <td>No internet service</td>\n",
              "      <td>Two year</td>\n",
              "      <td>No</td>\n",
              "      <td>Mailed check</td>\n",
              "      <td>25.75</td>\n",
              "      <td></td>\n",
              "      <td>No</td>\n",
              "    </tr>\n",
              "    <tr>\n",
              "      <th>1340</th>\n",
              "      <td>Female</td>\n",
              "      <td>0</td>\n",
              "      <td>Yes</td>\n",
              "      <td>Yes</td>\n",
              "      <td>0</td>\n",
              "      <td>No</td>\n",
              "      <td>No phone service</td>\n",
              "      <td>DSL</td>\n",
              "      <td>Yes</td>\n",
              "      <td>Yes</td>\n",
              "      <td>Yes</td>\n",
              "      <td>Yes</td>\n",
              "      <td>Yes</td>\n",
              "      <td>No</td>\n",
              "      <td>Two year</td>\n",
              "      <td>No</td>\n",
              "      <td>Credit card (automatic)</td>\n",
              "      <td>56.05</td>\n",
              "      <td></td>\n",
              "      <td>No</td>\n",
              "    </tr>\n",
              "    <tr>\n",
              "      <th>3331</th>\n",
              "      <td>Male</td>\n",
              "      <td>0</td>\n",
              "      <td>Yes</td>\n",
              "      <td>Yes</td>\n",
              "      <td>0</td>\n",
              "      <td>Yes</td>\n",
              "      <td>No</td>\n",
              "      <td>No</td>\n",
              "      <td>No internet service</td>\n",
              "      <td>No internet service</td>\n",
              "      <td>No internet service</td>\n",
              "      <td>No internet service</td>\n",
              "      <td>No internet service</td>\n",
              "      <td>No internet service</td>\n",
              "      <td>Two year</td>\n",
              "      <td>No</td>\n",
              "      <td>Mailed check</td>\n",
              "      <td>19.85</td>\n",
              "      <td></td>\n",
              "      <td>No</td>\n",
              "    </tr>\n",
              "    <tr>\n",
              "      <th>3826</th>\n",
              "      <td>Male</td>\n",
              "      <td>0</td>\n",
              "      <td>Yes</td>\n",
              "      <td>Yes</td>\n",
              "      <td>0</td>\n",
              "      <td>Yes</td>\n",
              "      <td>Yes</td>\n",
              "      <td>No</td>\n",
              "      <td>No internet service</td>\n",
              "      <td>No internet service</td>\n",
              "      <td>No internet service</td>\n",
              "      <td>No internet service</td>\n",
              "      <td>No internet service</td>\n",
              "      <td>No internet service</td>\n",
              "      <td>Two year</td>\n",
              "      <td>No</td>\n",
              "      <td>Mailed check</td>\n",
              "      <td>25.35</td>\n",
              "      <td></td>\n",
              "      <td>No</td>\n",
              "    </tr>\n",
              "    <tr>\n",
              "      <th>4380</th>\n",
              "      <td>Female</td>\n",
              "      <td>0</td>\n",
              "      <td>Yes</td>\n",
              "      <td>Yes</td>\n",
              "      <td>0</td>\n",
              "      <td>Yes</td>\n",
              "      <td>No</td>\n",
              "      <td>No</td>\n",
              "      <td>No internet service</td>\n",
              "      <td>No internet service</td>\n",
              "      <td>No internet service</td>\n",
              "      <td>No internet service</td>\n",
              "      <td>No internet service</td>\n",
              "      <td>No internet service</td>\n",
              "      <td>Two year</td>\n",
              "      <td>No</td>\n",
              "      <td>Mailed check</td>\n",
              "      <td>20.00</td>\n",
              "      <td></td>\n",
              "      <td>No</td>\n",
              "    </tr>\n",
              "    <tr>\n",
              "      <th>5218</th>\n",
              "      <td>Male</td>\n",
              "      <td>0</td>\n",
              "      <td>Yes</td>\n",
              "      <td>Yes</td>\n",
              "      <td>0</td>\n",
              "      <td>Yes</td>\n",
              "      <td>No</td>\n",
              "      <td>No</td>\n",
              "      <td>No internet service</td>\n",
              "      <td>No internet service</td>\n",
              "      <td>No internet service</td>\n",
              "      <td>No internet service</td>\n",
              "      <td>No internet service</td>\n",
              "      <td>No internet service</td>\n",
              "      <td>One year</td>\n",
              "      <td>Yes</td>\n",
              "      <td>Mailed check</td>\n",
              "      <td>19.70</td>\n",
              "      <td></td>\n",
              "      <td>No</td>\n",
              "    </tr>\n",
              "    <tr>\n",
              "      <th>6670</th>\n",
              "      <td>Female</td>\n",
              "      <td>0</td>\n",
              "      <td>Yes</td>\n",
              "      <td>Yes</td>\n",
              "      <td>0</td>\n",
              "      <td>Yes</td>\n",
              "      <td>Yes</td>\n",
              "      <td>DSL</td>\n",
              "      <td>No</td>\n",
              "      <td>Yes</td>\n",
              "      <td>Yes</td>\n",
              "      <td>Yes</td>\n",
              "      <td>Yes</td>\n",
              "      <td>No</td>\n",
              "      <td>Two year</td>\n",
              "      <td>No</td>\n",
              "      <td>Mailed check</td>\n",
              "      <td>73.35</td>\n",
              "      <td></td>\n",
              "      <td>No</td>\n",
              "    </tr>\n",
              "    <tr>\n",
              "      <th>6754</th>\n",
              "      <td>Male</td>\n",
              "      <td>0</td>\n",
              "      <td>No</td>\n",
              "      <td>Yes</td>\n",
              "      <td>0</td>\n",
              "      <td>Yes</td>\n",
              "      <td>Yes</td>\n",
              "      <td>DSL</td>\n",
              "      <td>Yes</td>\n",
              "      <td>Yes</td>\n",
              "      <td>No</td>\n",
              "      <td>Yes</td>\n",
              "      <td>No</td>\n",
              "      <td>No</td>\n",
              "      <td>Two year</td>\n",
              "      <td>Yes</td>\n",
              "      <td>Bank transfer (automatic)</td>\n",
              "      <td>61.90</td>\n",
              "      <td></td>\n",
              "      <td>No</td>\n",
              "    </tr>\n",
              "  </tbody>\n",
              "</table>\n",
              "</div>\n",
              "      <button class=\"colab-df-convert\" onclick=\"convertToInteractive('df-1d40ea92-dae4-4a2b-b50b-770a7dfa0934')\"\n",
              "              title=\"Convert this dataframe to an interactive table.\"\n",
              "              style=\"display:none;\">\n",
              "        \n",
              "  <svg xmlns=\"http://www.w3.org/2000/svg\" height=\"24px\"viewBox=\"0 0 24 24\"\n",
              "       width=\"24px\">\n",
              "    <path d=\"M0 0h24v24H0V0z\" fill=\"none\"/>\n",
              "    <path d=\"M18.56 5.44l.94 2.06.94-2.06 2.06-.94-2.06-.94-.94-2.06-.94 2.06-2.06.94zm-11 1L8.5 8.5l.94-2.06 2.06-.94-2.06-.94L8.5 2.5l-.94 2.06-2.06.94zm10 10l.94 2.06.94-2.06 2.06-.94-2.06-.94-.94-2.06-.94 2.06-2.06.94z\"/><path d=\"M17.41 7.96l-1.37-1.37c-.4-.4-.92-.59-1.43-.59-.52 0-1.04.2-1.43.59L10.3 9.45l-7.72 7.72c-.78.78-.78 2.05 0 2.83L4 21.41c.39.39.9.59 1.41.59.51 0 1.02-.2 1.41-.59l7.78-7.78 2.81-2.81c.8-.78.8-2.07 0-2.86zM5.41 20L4 18.59l7.72-7.72 1.47 1.35L5.41 20z\"/>\n",
              "  </svg>\n",
              "      </button>\n",
              "      \n",
              "  <style>\n",
              "    .colab-df-container {\n",
              "      display:flex;\n",
              "      flex-wrap:wrap;\n",
              "      gap: 12px;\n",
              "    }\n",
              "\n",
              "    .colab-df-convert {\n",
              "      background-color: #E8F0FE;\n",
              "      border: none;\n",
              "      border-radius: 50%;\n",
              "      cursor: pointer;\n",
              "      display: none;\n",
              "      fill: #1967D2;\n",
              "      height: 32px;\n",
              "      padding: 0 0 0 0;\n",
              "      width: 32px;\n",
              "    }\n",
              "\n",
              "    .colab-df-convert:hover {\n",
              "      background-color: #E2EBFA;\n",
              "      box-shadow: 0px 1px 2px rgba(60, 64, 67, 0.3), 0px 1px 3px 1px rgba(60, 64, 67, 0.15);\n",
              "      fill: #174EA6;\n",
              "    }\n",
              "\n",
              "    [theme=dark] .colab-df-convert {\n",
              "      background-color: #3B4455;\n",
              "      fill: #D2E3FC;\n",
              "    }\n",
              "\n",
              "    [theme=dark] .colab-df-convert:hover {\n",
              "      background-color: #434B5C;\n",
              "      box-shadow: 0px 1px 3px 1px rgba(0, 0, 0, 0.15);\n",
              "      filter: drop-shadow(0px 1px 2px rgba(0, 0, 0, 0.3));\n",
              "      fill: #FFFFFF;\n",
              "    }\n",
              "  </style>\n",
              "\n",
              "      <script>\n",
              "        const buttonEl =\n",
              "          document.querySelector('#df-1d40ea92-dae4-4a2b-b50b-770a7dfa0934 button.colab-df-convert');\n",
              "        buttonEl.style.display =\n",
              "          google.colab.kernel.accessAllowed ? 'block' : 'none';\n",
              "\n",
              "        async function convertToInteractive(key) {\n",
              "          const element = document.querySelector('#df-1d40ea92-dae4-4a2b-b50b-770a7dfa0934');\n",
              "          const dataTable =\n",
              "            await google.colab.kernel.invokeFunction('convertToInteractive',\n",
              "                                                     [key], {});\n",
              "          if (!dataTable) return;\n",
              "\n",
              "          const docLinkHtml = 'Like what you see? Visit the ' +\n",
              "            '<a target=\"_blank\" href=https://colab.research.google.com/notebooks/data_table.ipynb>data table notebook</a>'\n",
              "            + ' to learn more about interactive tables.';\n",
              "          element.innerHTML = '';\n",
              "          dataTable['output_type'] = 'display_data';\n",
              "          await google.colab.output.renderOutput(dataTable, element);\n",
              "          const docLink = document.createElement('div');\n",
              "          docLink.innerHTML = docLinkHtml;\n",
              "          element.appendChild(docLink);\n",
              "        }\n",
              "      </script>\n",
              "    </div>\n",
              "  </div>\n",
              "  "
            ],
            "text/plain": [
              "      gender  SeniorCitizen Partner  ... MonthlyCharges  TotalCharges Churn\n",
              "488   Female              0     Yes  ...          52.55                  No\n",
              "753     Male              0      No  ...          20.25                  No\n",
              "936   Female              0     Yes  ...          80.85                  No\n",
              "1082    Male              0     Yes  ...          25.75                  No\n",
              "1340  Female              0     Yes  ...          56.05                  No\n",
              "3331    Male              0     Yes  ...          19.85                  No\n",
              "3826    Male              0     Yes  ...          25.35                  No\n",
              "4380  Female              0     Yes  ...          20.00                  No\n",
              "5218    Male              0     Yes  ...          19.70                  No\n",
              "6670  Female              0     Yes  ...          73.35                  No\n",
              "6754    Male              0      No  ...          61.90                  No\n",
              "\n",
              "[11 rows x 20 columns]"
            ]
          },
          "metadata": {},
          "execution_count": 9
        }
      ]
    },
    {
      "cell_type": "code",
      "source": [
        "df.TotalCharges=pd.to_numeric(df.TotalCharges,errors='coerce')"
      ],
      "metadata": {
        "id": "etHWqnnwLktM"
      },
      "execution_count": null,
      "outputs": []
    },
    {
      "cell_type": "code",
      "source": [
        "df.TotalCharges.isna().sum()"
      ],
      "metadata": {
        "colab": {
          "base_uri": "https://localhost:8080/"
        },
        "id": "pvFY_peZMzbm",
        "outputId": "23f4ab5e-2843-444e-d1cb-18528ebb6f45"
      },
      "execution_count": null,
      "outputs": [
        {
          "output_type": "execute_result",
          "data": {
            "text/plain": [
              "11"
            ]
          },
          "metadata": {},
          "execution_count": 11
        }
      ]
    },
    {
      "cell_type": "code",
      "source": [
        "df.shape"
      ],
      "metadata": {
        "colab": {
          "base_uri": "https://localhost:8080/"
        },
        "id": "zS8gb6PpQIMx",
        "outputId": "fa70722d-4f26-4320-af31-eb15438fe983"
      },
      "execution_count": null,
      "outputs": [
        {
          "output_type": "execute_result",
          "data": {
            "text/plain": [
              "(7043, 20)"
            ]
          },
          "metadata": {},
          "execution_count": 12
        }
      ]
    },
    {
      "cell_type": "code",
      "source": [
        "df=df[df.TotalCharges.notna()]"
      ],
      "metadata": {
        "id": "SXZym3j-Py10"
      },
      "execution_count": null,
      "outputs": []
    },
    {
      "cell_type": "code",
      "source": [
        "df.shape"
      ],
      "metadata": {
        "colab": {
          "base_uri": "https://localhost:8080/"
        },
        "id": "sxwtNsmNQLit",
        "outputId": "9b400d56-5972-4a11-9722-5d1d6a80223d"
      },
      "execution_count": null,
      "outputs": [
        {
          "output_type": "execute_result",
          "data": {
            "text/plain": [
              "(7032, 20)"
            ]
          },
          "metadata": {},
          "execution_count": 14
        }
      ]
    },
    {
      "cell_type": "code",
      "source": [
        "df[\"Churn\"]=df[\"Churn\"].replace({\"No\":0,\"Yes\":1}).astype(\"int64\")"
      ],
      "metadata": {
        "id": "DBem-5VpTWG1"
      },
      "execution_count": null,
      "outputs": []
    },
    {
      "cell_type": "code",
      "source": [
        "df.head()"
      ],
      "metadata": {
        "colab": {
          "base_uri": "https://localhost:8080/",
          "height": 339
        },
        "id": "EctO4cB-VZ1F",
        "outputId": "5352273b-ce38-4ae5-a405-9c1337a04ed1"
      },
      "execution_count": null,
      "outputs": [
        {
          "output_type": "execute_result",
          "data": {
            "text/html": [
              "\n",
              "  <div id=\"df-445a53a1-ce2b-4830-977b-93833dc70e81\">\n",
              "    <div class=\"colab-df-container\">\n",
              "      <div>\n",
              "<style scoped>\n",
              "    .dataframe tbody tr th:only-of-type {\n",
              "        vertical-align: middle;\n",
              "    }\n",
              "\n",
              "    .dataframe tbody tr th {\n",
              "        vertical-align: top;\n",
              "    }\n",
              "\n",
              "    .dataframe thead th {\n",
              "        text-align: right;\n",
              "    }\n",
              "</style>\n",
              "<table border=\"1\" class=\"dataframe\">\n",
              "  <thead>\n",
              "    <tr style=\"text-align: right;\">\n",
              "      <th></th>\n",
              "      <th>gender</th>\n",
              "      <th>SeniorCitizen</th>\n",
              "      <th>Partner</th>\n",
              "      <th>Dependents</th>\n",
              "      <th>tenure</th>\n",
              "      <th>PhoneService</th>\n",
              "      <th>MultipleLines</th>\n",
              "      <th>InternetService</th>\n",
              "      <th>OnlineSecurity</th>\n",
              "      <th>OnlineBackup</th>\n",
              "      <th>DeviceProtection</th>\n",
              "      <th>TechSupport</th>\n",
              "      <th>StreamingTV</th>\n",
              "      <th>StreamingMovies</th>\n",
              "      <th>Contract</th>\n",
              "      <th>PaperlessBilling</th>\n",
              "      <th>PaymentMethod</th>\n",
              "      <th>MonthlyCharges</th>\n",
              "      <th>TotalCharges</th>\n",
              "      <th>Churn</th>\n",
              "    </tr>\n",
              "  </thead>\n",
              "  <tbody>\n",
              "    <tr>\n",
              "      <th>0</th>\n",
              "      <td>Female</td>\n",
              "      <td>0</td>\n",
              "      <td>Yes</td>\n",
              "      <td>No</td>\n",
              "      <td>1</td>\n",
              "      <td>No</td>\n",
              "      <td>No phone service</td>\n",
              "      <td>DSL</td>\n",
              "      <td>No</td>\n",
              "      <td>Yes</td>\n",
              "      <td>No</td>\n",
              "      <td>No</td>\n",
              "      <td>No</td>\n",
              "      <td>No</td>\n",
              "      <td>Month-to-month</td>\n",
              "      <td>Yes</td>\n",
              "      <td>Electronic check</td>\n",
              "      <td>29.85</td>\n",
              "      <td>29.85</td>\n",
              "      <td>0</td>\n",
              "    </tr>\n",
              "    <tr>\n",
              "      <th>1</th>\n",
              "      <td>Male</td>\n",
              "      <td>0</td>\n",
              "      <td>No</td>\n",
              "      <td>No</td>\n",
              "      <td>34</td>\n",
              "      <td>Yes</td>\n",
              "      <td>No</td>\n",
              "      <td>DSL</td>\n",
              "      <td>Yes</td>\n",
              "      <td>No</td>\n",
              "      <td>Yes</td>\n",
              "      <td>No</td>\n",
              "      <td>No</td>\n",
              "      <td>No</td>\n",
              "      <td>One year</td>\n",
              "      <td>No</td>\n",
              "      <td>Mailed check</td>\n",
              "      <td>56.95</td>\n",
              "      <td>1889.50</td>\n",
              "      <td>0</td>\n",
              "    </tr>\n",
              "    <tr>\n",
              "      <th>2</th>\n",
              "      <td>Male</td>\n",
              "      <td>0</td>\n",
              "      <td>No</td>\n",
              "      <td>No</td>\n",
              "      <td>2</td>\n",
              "      <td>Yes</td>\n",
              "      <td>No</td>\n",
              "      <td>DSL</td>\n",
              "      <td>Yes</td>\n",
              "      <td>Yes</td>\n",
              "      <td>No</td>\n",
              "      <td>No</td>\n",
              "      <td>No</td>\n",
              "      <td>No</td>\n",
              "      <td>Month-to-month</td>\n",
              "      <td>Yes</td>\n",
              "      <td>Mailed check</td>\n",
              "      <td>53.85</td>\n",
              "      <td>108.15</td>\n",
              "      <td>1</td>\n",
              "    </tr>\n",
              "    <tr>\n",
              "      <th>3</th>\n",
              "      <td>Male</td>\n",
              "      <td>0</td>\n",
              "      <td>No</td>\n",
              "      <td>No</td>\n",
              "      <td>45</td>\n",
              "      <td>No</td>\n",
              "      <td>No phone service</td>\n",
              "      <td>DSL</td>\n",
              "      <td>Yes</td>\n",
              "      <td>No</td>\n",
              "      <td>Yes</td>\n",
              "      <td>Yes</td>\n",
              "      <td>No</td>\n",
              "      <td>No</td>\n",
              "      <td>One year</td>\n",
              "      <td>No</td>\n",
              "      <td>Bank transfer (automatic)</td>\n",
              "      <td>42.30</td>\n",
              "      <td>1840.75</td>\n",
              "      <td>0</td>\n",
              "    </tr>\n",
              "    <tr>\n",
              "      <th>4</th>\n",
              "      <td>Female</td>\n",
              "      <td>0</td>\n",
              "      <td>No</td>\n",
              "      <td>No</td>\n",
              "      <td>2</td>\n",
              "      <td>Yes</td>\n",
              "      <td>No</td>\n",
              "      <td>Fiber optic</td>\n",
              "      <td>No</td>\n",
              "      <td>No</td>\n",
              "      <td>No</td>\n",
              "      <td>No</td>\n",
              "      <td>No</td>\n",
              "      <td>No</td>\n",
              "      <td>Month-to-month</td>\n",
              "      <td>Yes</td>\n",
              "      <td>Electronic check</td>\n",
              "      <td>70.70</td>\n",
              "      <td>151.65</td>\n",
              "      <td>1</td>\n",
              "    </tr>\n",
              "  </tbody>\n",
              "</table>\n",
              "</div>\n",
              "      <button class=\"colab-df-convert\" onclick=\"convertToInteractive('df-445a53a1-ce2b-4830-977b-93833dc70e81')\"\n",
              "              title=\"Convert this dataframe to an interactive table.\"\n",
              "              style=\"display:none;\">\n",
              "        \n",
              "  <svg xmlns=\"http://www.w3.org/2000/svg\" height=\"24px\"viewBox=\"0 0 24 24\"\n",
              "       width=\"24px\">\n",
              "    <path d=\"M0 0h24v24H0V0z\" fill=\"none\"/>\n",
              "    <path d=\"M18.56 5.44l.94 2.06.94-2.06 2.06-.94-2.06-.94-.94-2.06-.94 2.06-2.06.94zm-11 1L8.5 8.5l.94-2.06 2.06-.94-2.06-.94L8.5 2.5l-.94 2.06-2.06.94zm10 10l.94 2.06.94-2.06 2.06-.94-2.06-.94-.94-2.06-.94 2.06-2.06.94z\"/><path d=\"M17.41 7.96l-1.37-1.37c-.4-.4-.92-.59-1.43-.59-.52 0-1.04.2-1.43.59L10.3 9.45l-7.72 7.72c-.78.78-.78 2.05 0 2.83L4 21.41c.39.39.9.59 1.41.59.51 0 1.02-.2 1.41-.59l7.78-7.78 2.81-2.81c.8-.78.8-2.07 0-2.86zM5.41 20L4 18.59l7.72-7.72 1.47 1.35L5.41 20z\"/>\n",
              "  </svg>\n",
              "      </button>\n",
              "      \n",
              "  <style>\n",
              "    .colab-df-container {\n",
              "      display:flex;\n",
              "      flex-wrap:wrap;\n",
              "      gap: 12px;\n",
              "    }\n",
              "\n",
              "    .colab-df-convert {\n",
              "      background-color: #E8F0FE;\n",
              "      border: none;\n",
              "      border-radius: 50%;\n",
              "      cursor: pointer;\n",
              "      display: none;\n",
              "      fill: #1967D2;\n",
              "      height: 32px;\n",
              "      padding: 0 0 0 0;\n",
              "      width: 32px;\n",
              "    }\n",
              "\n",
              "    .colab-df-convert:hover {\n",
              "      background-color: #E2EBFA;\n",
              "      box-shadow: 0px 1px 2px rgba(60, 64, 67, 0.3), 0px 1px 3px 1px rgba(60, 64, 67, 0.15);\n",
              "      fill: #174EA6;\n",
              "    }\n",
              "\n",
              "    [theme=dark] .colab-df-convert {\n",
              "      background-color: #3B4455;\n",
              "      fill: #D2E3FC;\n",
              "    }\n",
              "\n",
              "    [theme=dark] .colab-df-convert:hover {\n",
              "      background-color: #434B5C;\n",
              "      box-shadow: 0px 1px 3px 1px rgba(0, 0, 0, 0.15);\n",
              "      filter: drop-shadow(0px 1px 2px rgba(0, 0, 0, 0.3));\n",
              "      fill: #FFFFFF;\n",
              "    }\n",
              "  </style>\n",
              "\n",
              "      <script>\n",
              "        const buttonEl =\n",
              "          document.querySelector('#df-445a53a1-ce2b-4830-977b-93833dc70e81 button.colab-df-convert');\n",
              "        buttonEl.style.display =\n",
              "          google.colab.kernel.accessAllowed ? 'block' : 'none';\n",
              "\n",
              "        async function convertToInteractive(key) {\n",
              "          const element = document.querySelector('#df-445a53a1-ce2b-4830-977b-93833dc70e81');\n",
              "          const dataTable =\n",
              "            await google.colab.kernel.invokeFunction('convertToInteractive',\n",
              "                                                     [key], {});\n",
              "          if (!dataTable) return;\n",
              "\n",
              "          const docLinkHtml = 'Like what you see? Visit the ' +\n",
              "            '<a target=\"_blank\" href=https://colab.research.google.com/notebooks/data_table.ipynb>data table notebook</a>'\n",
              "            + ' to learn more about interactive tables.';\n",
              "          element.innerHTML = '';\n",
              "          dataTable['output_type'] = 'display_data';\n",
              "          await google.colab.output.renderOutput(dataTable, element);\n",
              "          const docLink = document.createElement('div');\n",
              "          docLink.innerHTML = docLinkHtml;\n",
              "          element.appendChild(docLink);\n",
              "        }\n",
              "      </script>\n",
              "    </div>\n",
              "  </div>\n",
              "  "
            ],
            "text/plain": [
              "   gender  SeniorCitizen Partner  ... MonthlyCharges  TotalCharges Churn\n",
              "0  Female              0     Yes  ...          29.85         29.85     0\n",
              "1    Male              0      No  ...          56.95       1889.50     0\n",
              "2    Male              0      No  ...          53.85        108.15     1\n",
              "3    Male              0      No  ...          42.30       1840.75     0\n",
              "4  Female              0      No  ...          70.70        151.65     1\n",
              "\n",
              "[5 rows x 20 columns]"
            ]
          },
          "metadata": {},
          "execution_count": 16
        }
      ]
    },
    {
      "cell_type": "code",
      "source": [
        "import matplotlib.pyplot as plt\n",
        "import seaborn as sns\n",
        "df[[\"tenure\",\"Churn\"]].hist(column=\"tenure\",by=\"Churn\")"
      ],
      "metadata": {
        "colab": {
          "base_uri": "https://localhost:8080/",
          "height": 335
        },
        "id": "FAPcvKMJQzOS",
        "outputId": "bee132e8-9a4c-4a68-9fad-fb82ca33b4d0"
      },
      "execution_count": null,
      "outputs": [
        {
          "output_type": "execute_result",
          "data": {
            "text/plain": [
              "array([<matplotlib.axes._subplots.AxesSubplot object at 0x7f7ffe70e050>,\n",
              "       <matplotlib.axes._subplots.AxesSubplot object at 0x7f7ffdf2dc10>],\n",
              "      dtype=object)"
            ]
          },
          "metadata": {},
          "execution_count": 17
        },
        {
          "output_type": "display_data",
          "data": {
            "image/png": "[encoded data removed]",
            "text/plain": [
              "<Figure size 432x288 with 2 Axes>"
            ]
          },
          "metadata": {
            "needs_background": "light"
          }
        }
      ]
    },
    {
      "cell_type": "code",
      "source": [
        "df[[\"SeniorCitizen\",\"Churn\"]].hist(column=\"SeniorCitizen\",by=\"Churn\")"
      ],
      "metadata": {
        "colab": {
          "base_uri": "https://localhost:8080/",
          "height": 344
        },
        "id": "e8KpUvpvVAe_",
        "outputId": "e9e2f1e5-28f6-4887-cfa6-bc8888962818"
      },
      "execution_count": null,
      "outputs": [
        {
          "output_type": "execute_result",
          "data": {
            "text/plain": [
              "array([<matplotlib.axes._subplots.AxesSubplot object at 0x7f7ffde24f10>,\n",
              "       <matplotlib.axes._subplots.AxesSubplot object at 0x7f7ffd931150>],\n",
              "      dtype=object)"
            ]
          },
          "metadata": {},
          "execution_count": 18
        },
        {
          "output_type": "display_data",
          "data": {
            "image/png": "[encoded data removed]",
            "text/plain": [
              "<Figure size 432x288 with 2 Axes>"
            ]
          },
          "metadata": {
            "needs_background": "light"
          }
        }
      ]
    },
    {
      "cell_type": "code",
      "source": [
        "df[[\"MonthlyCharges\",\"Churn\"]].hist(column=\"MonthlyCharges\",by=\"Churn\")"
      ],
      "metadata": {
        "colab": {
          "base_uri": "https://localhost:8080/",
          "height": 341
        },
        "id": "QQUII1g3XeX-",
        "outputId": "e195ef05-d49e-40ee-9f31-69f8eba51923"
      },
      "execution_count": null,
      "outputs": [
        {
          "output_type": "execute_result",
          "data": {
            "text/plain": [
              "array([<matplotlib.axes._subplots.AxesSubplot object at 0x7f7ffe704fd0>,\n",
              "       <matplotlib.axes._subplots.AxesSubplot object at 0x7f7ffd83c290>],\n",
              "      dtype=object)"
            ]
          },
          "metadata": {},
          "execution_count": 19
        },
        {
          "output_type": "display_data",
          "data": {
            "image/png": "[encoded data removed]",
            "text/plain": [
              "<Figure size 432x288 with 2 Axes>"
            ]
          },
          "metadata": {
            "needs_background": "light"
          }
        }
      ]
    },
    {
      "cell_type": "code",
      "source": [
        "print(df.apply(lambda col: col.unique())) "
      ],
      "metadata": {
        "colab": {
          "base_uri": "https://localhost:8080/"
        },
        "id": "G2-6FIqMXrOp",
        "outputId": "dfab733d-408d-43e2-e5dc-c91ad68870a7"
      },
      "execution_count": null,
      "outputs": [
        {
          "output_type": "stream",
          "name": "stdout",
          "text": [
            "gender                                                 [Female, Male]\n",
            "SeniorCitizen                                                  [0, 1]\n",
            "Partner                                                     [Yes, No]\n",
            "Dependents                                                  [No, Yes]\n",
            "tenure              [1, 34, 2, 45, 8, 22, 10, 28, 62, 13, 16, 58, ...\n",
            "PhoneService                                                [No, Yes]\n",
            "MultipleLines                             [No phone service, No, Yes]\n",
            "InternetService                                [DSL, Fiber optic, No]\n",
            "OnlineSecurity                         [No, Yes, No internet service]\n",
            "OnlineBackup                           [Yes, No, No internet service]\n",
            "DeviceProtection                       [No, Yes, No internet service]\n",
            "TechSupport                            [No, Yes, No internet service]\n",
            "StreamingTV                            [No, Yes, No internet service]\n",
            "StreamingMovies                        [No, Yes, No internet service]\n",
            "Contract                         [Month-to-month, One year, Two year]\n",
            "PaperlessBilling                                            [Yes, No]\n",
            "PaymentMethod       [Electronic check, Mailed check, Bank transfer...\n",
            "MonthlyCharges      [29.85, 56.95, 53.85, 42.3, 70.7, 99.65, 89.1,...\n",
            "TotalCharges        [29.85, 1889.5, 108.15, 1840.75, 151.65, 820.5...\n",
            "Churn                                                          [0, 1]\n",
            "dtype: object\n"
          ]
        }
      ]
    },
    {
      "cell_type": "code",
      "source": [
        "df.MultipleLines=df.MultipleLines.replace({\"No phone service\":\"No\"})\n",
        "df.replace({\"No internet service\":\"No\"},inplace=True)"
      ],
      "metadata": {
        "id": "dPZV66fXYVD3"
      },
      "execution_count": null,
      "outputs": []
    },
    {
      "cell_type": "code",
      "source": [
        "df=df.replace({\"No\":0,\"Yes\":1})"
      ],
      "metadata": {
        "id": "984tJK_Wj9LE"
      },
      "execution_count": null,
      "outputs": []
    },
    {
      "cell_type": "code",
      "source": [
        "print(df.apply(lambda col: col.unique())) "
      ],
      "metadata": {
        "colab": {
          "base_uri": "https://localhost:8080/"
        },
        "id": "mxjO7xRnY6C8",
        "outputId": "04d0f3dc-df31-4f1c-840b-bec60bbbe1e0"
      },
      "execution_count": null,
      "outputs": [
        {
          "output_type": "stream",
          "name": "stdout",
          "text": [
            "gender                                                 [Female, Male]\n",
            "SeniorCitizen                                                  [0, 1]\n",
            "Partner                                                        [1, 0]\n",
            "Dependents                                                     [0, 1]\n",
            "tenure              [1, 34, 2, 45, 8, 22, 10, 28, 62, 13, 16, 58, ...\n",
            "PhoneService                                                   [0, 1]\n",
            "MultipleLines                                                  [0, 1]\n",
            "InternetService                                 [DSL, Fiber optic, 0]\n",
            "OnlineSecurity                                                 [0, 1]\n",
            "OnlineBackup                                                   [1, 0]\n",
            "DeviceProtection                                               [0, 1]\n",
            "TechSupport                                                    [0, 1]\n",
            "StreamingTV                                                    [0, 1]\n",
            "StreamingMovies                                                [0, 1]\n",
            "Contract                         [Month-to-month, One year, Two year]\n",
            "PaperlessBilling                                               [1, 0]\n",
            "PaymentMethod       [Electronic check, Mailed check, Bank transfer...\n",
            "MonthlyCharges      [29.85, 56.95, 53.85, 42.3, 70.7, 99.65, 89.1,...\n",
            "TotalCharges        [29.85, 1889.5, 108.15, 1840.75, 151.65, 820.5...\n",
            "Churn                                                          [0, 1]\n",
            "dtype: object\n"
          ]
        }
      ]
    },
    {
      "cell_type": "code",
      "source": [
        "df.PaymentMethod.unique()"
      ],
      "metadata": {
        "colab": {
          "base_uri": "https://localhost:8080/"
        },
        "id": "KhYLpi6sY_UE",
        "outputId": "f4b49850-daaa-4eea-d116-6906db2050b1"
      },
      "execution_count": null,
      "outputs": [
        {
          "output_type": "execute_result",
          "data": {
            "text/plain": [
              "array(['Electronic check', 'Mailed check', 'Bank transfer (automatic)',\n",
              "       'Credit card (automatic)'], dtype=object)"
            ]
          },
          "metadata": {},
          "execution_count": 24
        }
      ]
    },
    {
      "cell_type": "code",
      "source": [
        "df.columns"
      ],
      "metadata": {
        "colab": {
          "base_uri": "https://localhost:8080/"
        },
        "id": "qV7zoyvGZbMg",
        "outputId": "2a3fca97-475a-417e-8165-79f38b543f0c"
      },
      "execution_count": null,
      "outputs": [
        {
          "output_type": "execute_result",
          "data": {
            "text/plain": [
              "Index(['gender', 'SeniorCitizen', 'Partner', 'Dependents', 'tenure',\n",
              "       'PhoneService', 'MultipleLines', 'InternetService', 'OnlineSecurity',\n",
              "       'OnlineBackup', 'DeviceProtection', 'TechSupport', 'StreamingTV',\n",
              "       'StreamingMovies', 'Contract', 'PaperlessBilling', 'PaymentMethod',\n",
              "       'MonthlyCharges', 'TotalCharges', 'Churn'],\n",
              "      dtype='object')"
            ]
          },
          "metadata": {},
          "execution_count": 25
        }
      ]
    },
    {
      "cell_type": "code",
      "source": [
        "df1=pd.get_dummies(df,columns=['gender','InternetService', 'Contract', 'PaymentMethod'])"
      ],
      "metadata": {
        "id": "U5-j2EwbZ4v4"
      },
      "execution_count": null,
      "outputs": []
    },
    {
      "cell_type": "code",
      "source": [
        "df1.columns"
      ],
      "metadata": {
        "colab": {
          "base_uri": "https://localhost:8080/"
        },
        "id": "kn5tgbF2aoN_",
        "outputId": "53c74ff0-374c-412e-d0dd-89235be5535a"
      },
      "execution_count": null,
      "outputs": [
        {
          "output_type": "execute_result",
          "data": {
            "text/plain": [
              "Index(['SeniorCitizen', 'Partner', 'Dependents', 'tenure', 'PhoneService',\n",
              "       'MultipleLines', 'OnlineSecurity', 'OnlineBackup', 'DeviceProtection',\n",
              "       'TechSupport', 'StreamingTV', 'StreamingMovies', 'PaperlessBilling',\n",
              "       'MonthlyCharges', 'TotalCharges', 'Churn', 'gender_Female',\n",
              "       'gender_Male', 'InternetService_0', 'InternetService_DSL',\n",
              "       'InternetService_Fiber optic', 'Contract_Month-to-month',\n",
              "       'Contract_One year', 'Contract_Two year',\n",
              "       'PaymentMethod_Bank transfer (automatic)',\n",
              "       'PaymentMethod_Credit card (automatic)',\n",
              "       'PaymentMethod_Electronic check', 'PaymentMethod_Mailed check'],\n",
              "      dtype='object')"
            ]
          },
          "metadata": {},
          "execution_count": 27
        }
      ]
    },
    {
      "cell_type": "code",
      "source": [
        "df1.shape"
      ],
      "metadata": {
        "colab": {
          "base_uri": "https://localhost:8080/"
        },
        "id": "vsDAQ3LDaydr",
        "outputId": "06511ca2-afc9-4220-c57c-10425f9bec3d"
      },
      "execution_count": null,
      "outputs": [
        {
          "output_type": "execute_result",
          "data": {
            "text/plain": [
              "(7032, 28)"
            ]
          },
          "metadata": {},
          "execution_count": 28
        }
      ]
    },
    {
      "cell_type": "code",
      "source": [
        "cols_to_scale =['tenure','MonthlyCharges','TotalCharges']\n",
        "\n",
        "from sklearn.preprocessing import MinMaxScaler\n",
        "scaler=MinMaxScaler()\n",
        "\n",
        "df1[cols_to_scale]=scaler.fit_transform(df1[cols_to_scale])"
      ],
      "metadata": {
        "id": "weGMNEMwa_ZW"
      },
      "execution_count": null,
      "outputs": []
    },
    {
      "cell_type": "code",
      "source": [
        "  df1[cols_to_scale].head()"
      ],
      "metadata": {
        "colab": {
          "base_uri": "https://localhost:8080/",
          "height": 206
        },
        "id": "BSo1Uw_ycXrk",
        "outputId": "53531ead-c3b3-4f9b-e6ca-819457aa5266"
      },
      "execution_count": null,
      "outputs": [
        {
          "output_type": "execute_result",
          "data": {
            "text/html": [
              "\n",
              "  <div id=\"df-ae725464-5853-4e31-abf1-bd39cd79a96a\">\n",
              "    <div class=\"colab-df-container\">\n",
              "      <div>\n",
              "<style scoped>\n",
              "    .dataframe tbody tr th:only-of-type {\n",
              "        vertical-align: middle;\n",
              "    }\n",
              "\n",
              "    .dataframe tbody tr th {\n",
              "        vertical-align: top;\n",
              "    }\n",
              "\n",
              "    .dataframe thead th {\n",
              "        text-align: right;\n",
              "    }\n",
              "</style>\n",
              "<table border=\"1\" class=\"dataframe\">\n",
              "  <thead>\n",
              "    <tr style=\"text-align: right;\">\n",
              "      <th></th>\n",
              "      <th>tenure</th>\n",
              "      <th>MonthlyCharges</th>\n",
              "      <th>TotalCharges</th>\n",
              "    </tr>\n",
              "  </thead>\n",
              "  <tbody>\n",
              "    <tr>\n",
              "      <th>0</th>\n",
              "      <td>0.000000</td>\n",
              "      <td>0.115423</td>\n",
              "      <td>0.001275</td>\n",
              "    </tr>\n",
              "    <tr>\n",
              "      <th>1</th>\n",
              "      <td>0.464789</td>\n",
              "      <td>0.385075</td>\n",
              "      <td>0.215867</td>\n",
              "    </tr>\n",
              "    <tr>\n",
              "      <th>2</th>\n",
              "      <td>0.014085</td>\n",
              "      <td>0.354229</td>\n",
              "      <td>0.010310</td>\n",
              "    </tr>\n",
              "    <tr>\n",
              "      <th>3</th>\n",
              "      <td>0.619718</td>\n",
              "      <td>0.239303</td>\n",
              "      <td>0.210241</td>\n",
              "    </tr>\n",
              "    <tr>\n",
              "      <th>4</th>\n",
              "      <td>0.014085</td>\n",
              "      <td>0.521891</td>\n",
              "      <td>0.015330</td>\n",
              "    </tr>\n",
              "  </tbody>\n",
              "</table>\n",
              "</div>\n",
              "      <button class=\"colab-df-convert\" onclick=\"convertToInteractive('df-ae725464-5853-4e31-abf1-bd39cd79a96a')\"\n",
              "              title=\"Convert this dataframe to an interactive table.\"\n",
              "              style=\"display:none;\">\n",
              "        \n",
              "  <svg xmlns=\"http://www.w3.org/2000/svg\" height=\"24px\"viewBox=\"0 0 24 24\"\n",
              "       width=\"24px\">\n",
              "    <path d=\"M0 0h24v24H0V0z\" fill=\"none\"/>\n",
              "    <path d=\"M18.56 5.44l.94 2.06.94-2.06 2.06-.94-2.06-.94-.94-2.06-.94 2.06-2.06.94zm-11 1L8.5 8.5l.94-2.06 2.06-.94-2.06-.94L8.5 2.5l-.94 2.06-2.06.94zm10 10l.94 2.06.94-2.06 2.06-.94-2.06-.94-.94-2.06-.94 2.06-2.06.94z\"/><path d=\"M17.41 7.96l-1.37-1.37c-.4-.4-.92-.59-1.43-.59-.52 0-1.04.2-1.43.59L10.3 9.45l-7.72 7.72c-.78.78-.78 2.05 0 2.83L4 21.41c.39.39.9.59 1.41.59.51 0 1.02-.2 1.41-.59l7.78-7.78 2.81-2.81c.8-.78.8-2.07 0-2.86zM5.41 20L4 18.59l7.72-7.72 1.47 1.35L5.41 20z\"/>\n",
              "  </svg>\n",
              "      </button>\n",
              "      \n",
              "  <style>\n",
              "    .colab-df-container {\n",
              "      display:flex;\n",
              "      flex-wrap:wrap;\n",
              "      gap: 12px;\n",
              "    }\n",
              "\n",
              "    .colab-df-convert {\n",
              "      background-color: #E8F0FE;\n",
              "      border: none;\n",
              "      border-radius: 50%;\n",
              "      cursor: pointer;\n",
              "      display: none;\n",
              "      fill: #1967D2;\n",
              "      height: 32px;\n",
              "      padding: 0 0 0 0;\n",
              "      width: 32px;\n",
              "    }\n",
              "\n",
              "    .colab-df-convert:hover {\n",
              "      background-color: #E2EBFA;\n",
              "      box-shadow: 0px 1px 2px rgba(60, 64, 67, 0.3), 0px 1px 3px 1px rgba(60, 64, 67, 0.15);\n",
              "      fill: #174EA6;\n",
              "    }\n",
              "\n",
              "    [theme=dark] .colab-df-convert {\n",
              "      background-color: #3B4455;\n",
              "      fill: #D2E3FC;\n",
              "    }\n",
              "\n",
              "    [theme=dark] .colab-df-convert:hover {\n",
              "      background-color: #434B5C;\n",
              "      box-shadow: 0px 1px 3px 1px rgba(0, 0, 0, 0.15);\n",
              "      filter: drop-shadow(0px 1px 2px rgba(0, 0, 0, 0.3));\n",
              "      fill: #FFFFFF;\n",
              "    }\n",
              "  </style>\n",
              "\n",
              "      <script>\n",
              "        const buttonEl =\n",
              "          document.querySelector('#df-ae725464-5853-4e31-abf1-bd39cd79a96a button.colab-df-convert');\n",
              "        buttonEl.style.display =\n",
              "          google.colab.kernel.accessAllowed ? 'block' : 'none';\n",
              "\n",
              "        async function convertToInteractive(key) {\n",
              "          const element = document.querySelector('#df-ae725464-5853-4e31-abf1-bd39cd79a96a');\n",
              "          const dataTable =\n",
              "            await google.colab.kernel.invokeFunction('convertToInteractive',\n",
              "                                                     [key], {});\n",
              "          if (!dataTable) return;\n",
              "\n",
              "          const docLinkHtml = 'Like what you see? Visit the ' +\n",
              "            '<a target=\"_blank\" href=https://colab.research.google.com/notebooks/data_table.ipynb>data table notebook</a>'\n",
              "            + ' to learn more about interactive tables.';\n",
              "          element.innerHTML = '';\n",
              "          dataTable['output_type'] = 'display_data';\n",
              "          await google.colab.output.renderOutput(dataTable, element);\n",
              "          const docLink = document.createElement('div');\n",
              "          docLink.innerHTML = docLinkHtml;\n",
              "          element.appendChild(docLink);\n",
              "        }\n",
              "      </script>\n",
              "    </div>\n",
              "  </div>\n",
              "  "
            ],
            "text/plain": [
              "     tenure  MonthlyCharges  TotalCharges\n",
              "0  0.000000        0.115423      0.001275\n",
              "1  0.464789        0.385075      0.215867\n",
              "2  0.014085        0.354229      0.010310\n",
              "3  0.619718        0.239303      0.210241\n",
              "4  0.014085        0.521891      0.015330"
            ]
          },
          "metadata": {},
          "execution_count": 30
        }
      ]
    },
    {
      "cell_type": "code",
      "source": [
        "x=df1.drop(\"Churn\",axis=1)\n",
        "y=df1.Churn"
      ],
      "metadata": {
        "id": "cdOb_GKlcbx1"
      },
      "execution_count": null,
      "outputs": []
    },
    {
      "cell_type": "code",
      "source": [
        "x.shape"
      ],
      "metadata": {
        "colab": {
          "base_uri": "https://localhost:8080/"
        },
        "id": "NSFz5EOuct-7",
        "outputId": "53356f7d-b611-450b-aa4b-60303e3aff8b"
      },
      "execution_count": null,
      "outputs": [
        {
          "output_type": "execute_result",
          "data": {
            "text/plain": [
              "(7032, 27)"
            ]
          },
          "metadata": {},
          "execution_count": 32
        }
      ]
    },
    {
      "cell_type": "code",
      "source": [
        "from sklearn.model_selection import train_test_split\n",
        "x_train,x_test,y_train,y_test=train_test_split(x,y,test_size=0.2)"
      ],
      "metadata": {
        "id": "nVqi0v0Fc-yY"
      },
      "execution_count": null,
      "outputs": []
    },
    {
      "cell_type": "code",
      "source": [
        "model=keras.Sequential([\n",
        "    keras.layers.Dense(10,input_shape=(27,),activation='relu'),\n",
        "    #keras.layers.Dropout(0.2),\n",
        "    keras.layers.Dense(5,input_shape=(27,),activation='relu'),\n",
        "    #keras.layers.Dropout(0.2),\n",
        "    keras.layers.Dense(1,activation='sigmoid')\n",
        "])\n",
        "model.compile(optimizer='adam', loss='binary_crossentropy',metrics=['accuracy'])"
      ],
      "metadata": {
        "id": "jS-8-IoSdP31"
      },
      "execution_count": null,
      "outputs": []
    },
    {
      "cell_type": "code",
      "source": [
        "#model.fit(x_train,y_train,epochs=20)"
      ],
      "metadata": {
        "id": "9IGrfuUCfW61"
      },
      "execution_count": null,
      "outputs": []
    },
    {
      "cell_type": "code",
      "source": [
        "from keras.callbacks import ModelCheckpoint\n",
        "checkpoint = ModelCheckpoint('model-{epoch:03d}.model',monitor='val_loss',verbose=0,save_best_only=True,mode='auto')\n",
        "history=model.fit(x_train,y_train,epochs=100,callbacks=[checkpoint],validation_split=0.2)"
      ],
      "metadata": {
        "colab": {
          "base_uri": "https://localhost:8080/"
        },
        "id": "4ovcsnv4gnch",
        "outputId": "8d0ae15f-0142-4ee5-afe9-d57a83789604"
      },
      "execution_count": null,
      "outputs": [
        {
          "output_type": "stream",
          "name": "stdout",
          "text": [
            "Epoch 1/100\n",
            "137/141 [============================>.] - ETA: 0s - loss: 0.5481 - accuracy: 0.7379INFO:tensorflow:Assets written to: model-001.model/assets\n",
            "141/141 [==============================] - 3s 14ms/step - loss: 0.5461 - accuracy: 0.7384 - val_loss: 0.4828 - val_accuracy: 0.7236\n",
            "Epoch 2/100\n",
            "121/141 [========================>.....] - ETA: 0s - loss: 0.4620 - accuracy: 0.7443INFO:tensorflow:Assets written to: model-002.model/assets\n",
            "141/141 [==============================] - 1s 8ms/step - loss: 0.4568 - accuracy: 0.7496 - val_loss: 0.4542 - val_accuracy: 0.7671\n",
            "Epoch 3/100\n",
            "129/141 [==========================>...] - ETA: 0s - loss: 0.4382 - accuracy: 0.7907INFO:tensorflow:Assets written to: model-003.model/assets\n",
            "141/141 [==============================] - 1s 8ms/step - loss: 0.4380 - accuracy: 0.7898 - val_loss: 0.4408 - val_accuracy: 0.7778\n",
            "Epoch 4/100\n",
            "123/141 [=========================>....] - ETA: 0s - loss: 0.4315 - accuracy: 0.7955INFO:tensorflow:Assets written to: model-004.model/assets\n",
            "141/141 [==============================] - 1s 8ms/step - loss: 0.4299 - accuracy: 0.7956 - val_loss: 0.4374 - val_accuracy: 0.7884\n",
            "Epoch 5/100\n",
            "129/141 [==========================>...] - ETA: 0s - loss: 0.4296 - accuracy: 0.8004INFO:tensorflow:Assets written to: model-005.model/assets\n",
            "141/141 [==============================] - 1s 7ms/step - loss: 0.4271 - accuracy: 0.8002 - val_loss: 0.4348 - val_accuracy: 0.7876\n",
            "Epoch 6/100\n",
            "137/141 [============================>.] - ETA: 0s - loss: 0.4227 - accuracy: 0.8006INFO:tensorflow:Assets written to: model-006.model/assets\n",
            "141/141 [==============================] - 1s 8ms/step - loss: 0.4230 - accuracy: 0.8013 - val_loss: 0.4314 - val_accuracy: 0.7884\n",
            "Epoch 7/100\n",
            "133/141 [===========================>..] - ETA: 0s - loss: 0.4225 - accuracy: 0.8017INFO:tensorflow:Assets written to: model-007.model/assets\n",
            "141/141 [==============================] - 1s 7ms/step - loss: 0.4219 - accuracy: 0.8022 - val_loss: 0.4305 - val_accuracy: 0.7902\n",
            "Epoch 8/100\n",
            "121/141 [========================>.....] - ETA: 0s - loss: 0.4248 - accuracy: 0.8019INFO:tensorflow:Assets written to: model-008.model/assets\n",
            "141/141 [==============================] - 1s 7ms/step - loss: 0.4203 - accuracy: 0.8044 - val_loss: 0.4300 - val_accuracy: 0.7876\n",
            "Epoch 9/100\n",
            "130/141 [==========================>...] - ETA: 0s - loss: 0.4215 - accuracy: 0.8036INFO:tensorflow:Assets written to: model-009.model/assets\n",
            "141/141 [==============================] - 1s 8ms/step - loss: 0.4198 - accuracy: 0.8042 - val_loss: 0.4285 - val_accuracy: 0.7867\n",
            "Epoch 10/100\n",
            "122/141 [========================>.....] - ETA: 0s - loss: 0.4221 - accuracy: 0.8005INFO:tensorflow:Assets written to: model-010.model/assets\n",
            "141/141 [==============================] - 1s 10ms/step - loss: 0.4178 - accuracy: 0.8038 - val_loss: 0.4282 - val_accuracy: 0.7920\n",
            "Epoch 11/100\n",
            "129/141 [==========================>...] - ETA: 0s - loss: 0.4150 - accuracy: 0.8067INFO:tensorflow:Assets written to: model-011.model/assets\n",
            "141/141 [==============================] - 1s 8ms/step - loss: 0.4170 - accuracy: 0.8062 - val_loss: 0.4279 - val_accuracy: 0.7884\n",
            "Epoch 12/100\n",
            "115/141 [=======================>......] - ETA: 0s - loss: 0.4151 - accuracy: 0.8092INFO:tensorflow:Assets written to: model-012.model/assets\n",
            "141/141 [==============================] - 1s 7ms/step - loss: 0.4167 - accuracy: 0.8076 - val_loss: 0.4262 - val_accuracy: 0.7920\n",
            "Epoch 13/100\n",
            "139/141 [============================>.] - ETA: 0s - loss: 0.4154 - accuracy: 0.8049INFO:tensorflow:Assets written to: model-013.model/assets\n",
            "141/141 [==============================] - 1s 7ms/step - loss: 0.4157 - accuracy: 0.8047 - val_loss: 0.4258 - val_accuracy: 0.7920\n",
            "Epoch 14/100\n",
            "141/141 [==============================] - 0s 2ms/step - loss: 0.4154 - accuracy: 0.8053 - val_loss: 0.4260 - val_accuracy: 0.7938\n",
            "Epoch 15/100\n",
            "141/141 [==============================] - 0s 2ms/step - loss: 0.4154 - accuracy: 0.8056 - val_loss: 0.4267 - val_accuracy: 0.7876\n",
            "Epoch 16/100\n",
            "132/141 [===========================>..] - ETA: 0s - loss: 0.4168 - accuracy: 0.8035INFO:tensorflow:Assets written to: model-016.model/assets\n",
            "141/141 [==============================] - 1s 7ms/step - loss: 0.4141 - accuracy: 0.8060 - val_loss: 0.4252 - val_accuracy: 0.7956\n",
            "Epoch 17/100\n",
            "141/141 [==============================] - 0s 2ms/step - loss: 0.4135 - accuracy: 0.8084 - val_loss: 0.4288 - val_accuracy: 0.7858\n",
            "Epoch 18/100\n",
            "135/141 [===========================>..] - ETA: 0s - loss: 0.4114 - accuracy: 0.8081INFO:tensorflow:Assets written to: model-018.model/assets\n",
            "141/141 [==============================] - 1s 7ms/step - loss: 0.4131 - accuracy: 0.8069 - val_loss: 0.4247 - val_accuracy: 0.7947\n",
            "Epoch 19/100\n",
            "141/141 [==============================] - 0s 3ms/step - loss: 0.4137 - accuracy: 0.8036 - val_loss: 0.4255 - val_accuracy: 0.7956\n",
            "Epoch 20/100\n",
            "141/141 [==============================] - 0s 3ms/step - loss: 0.4124 - accuracy: 0.8064 - val_loss: 0.4249 - val_accuracy: 0.7991\n",
            "Epoch 21/100\n",
            "141/141 [==============================] - 0s 3ms/step - loss: 0.4116 - accuracy: 0.8067 - val_loss: 0.4277 - val_accuracy: 0.7893\n",
            "Epoch 22/100\n",
            "141/141 [==============================] - 0s 3ms/step - loss: 0.4112 - accuracy: 0.8056 - val_loss: 0.4252 - val_accuracy: 0.7947\n",
            "Epoch 23/100\n",
            "141/141 [==============================] - 0s 3ms/step - loss: 0.4108 - accuracy: 0.8076 - val_loss: 0.4264 - val_accuracy: 0.7929\n",
            "Epoch 24/100\n",
            "141/141 [==============================] - 0s 2ms/step - loss: 0.4105 - accuracy: 0.8058 - val_loss: 0.4248 - val_accuracy: 0.7964\n",
            "Epoch 25/100\n",
            "141/141 [==============================] - 0s 3ms/step - loss: 0.4102 - accuracy: 0.8073 - val_loss: 0.4251 - val_accuracy: 0.7929\n",
            "Epoch 26/100\n",
            "141/141 [==============================] - 0s 3ms/step - loss: 0.4094 - accuracy: 0.8084 - val_loss: 0.4251 - val_accuracy: 0.7947\n",
            "Epoch 27/100\n",
            "135/141 [===========================>..] - ETA: 0s - loss: 0.4104 - accuracy: 0.8083INFO:tensorflow:Assets written to: model-027.model/assets\n",
            "141/141 [==============================] - 1s 7ms/step - loss: 0.4102 - accuracy: 0.8087 - val_loss: 0.4238 - val_accuracy: 0.7973\n",
            "Epoch 28/100\n",
            "141/141 [==============================] - 0s 2ms/step - loss: 0.4091 - accuracy: 0.8078 - val_loss: 0.4249 - val_accuracy: 0.7973\n",
            "Epoch 29/100\n",
            "141/141 [==============================] - 0s 2ms/step - loss: 0.4084 - accuracy: 0.8060 - val_loss: 0.4250 - val_accuracy: 0.7964\n",
            "Epoch 30/100\n",
            "141/141 [==============================] - 0s 3ms/step - loss: 0.4079 - accuracy: 0.8093 - val_loss: 0.4245 - val_accuracy: 0.7947\n",
            "Epoch 31/100\n",
            "141/141 [==============================] - 0s 2ms/step - loss: 0.4082 - accuracy: 0.8069 - val_loss: 0.4248 - val_accuracy: 0.7947\n",
            "Epoch 32/100\n",
            "141/141 [==============================] - 0s 2ms/step - loss: 0.4077 - accuracy: 0.8069 - val_loss: 0.4282 - val_accuracy: 0.7938\n",
            "Epoch 33/100\n",
            "141/141 [==============================] - 0s 3ms/step - loss: 0.4073 - accuracy: 0.8073 - val_loss: 0.4247 - val_accuracy: 0.7938\n",
            "Epoch 34/100\n",
            "141/141 [==============================] - 0s 2ms/step - loss: 0.4062 - accuracy: 0.8078 - val_loss: 0.4251 - val_accuracy: 0.7929\n",
            "Epoch 35/100\n",
            "141/141 [==============================] - 0s 3ms/step - loss: 0.4062 - accuracy: 0.8073 - val_loss: 0.4242 - val_accuracy: 0.7938\n",
            "Epoch 36/100\n",
            "132/141 [===========================>..] - ETA: 0s - loss: 0.4064 - accuracy: 0.8087INFO:tensorflow:Assets written to: model-036.model/assets\n",
            "141/141 [==============================] - 1s 7ms/step - loss: 0.4056 - accuracy: 0.8102 - val_loss: 0.4237 - val_accuracy: 0.7956\n",
            "Epoch 37/100\n",
            "141/141 [==============================] - 0s 3ms/step - loss: 0.4053 - accuracy: 0.8080 - val_loss: 0.4270 - val_accuracy: 0.7920\n",
            "Epoch 38/100\n",
            "141/141 [==============================] - 0s 3ms/step - loss: 0.4050 - accuracy: 0.8102 - val_loss: 0.4250 - val_accuracy: 0.7956\n",
            "Epoch 39/100\n",
            "141/141 [==============================] - 0s 3ms/step - loss: 0.4044 - accuracy: 0.8091 - val_loss: 0.4272 - val_accuracy: 0.7938\n",
            "Epoch 40/100\n",
            "141/141 [==============================] - 0s 3ms/step - loss: 0.4042 - accuracy: 0.8080 - val_loss: 0.4256 - val_accuracy: 0.7956\n",
            "Epoch 41/100\n",
            "141/141 [==============================] - 0s 3ms/step - loss: 0.4040 - accuracy: 0.8107 - val_loss: 0.4243 - val_accuracy: 0.7938\n",
            "Epoch 42/100\n",
            "141/141 [==============================] - 0s 3ms/step - loss: 0.4032 - accuracy: 0.8133 - val_loss: 0.4248 - val_accuracy: 0.7947\n",
            "Epoch 43/100\n",
            "141/141 [==============================] - 0s 3ms/step - loss: 0.4036 - accuracy: 0.8098 - val_loss: 0.4241 - val_accuracy: 0.7973\n",
            "Epoch 44/100\n",
            "141/141 [==============================] - 0s 2ms/step - loss: 0.4031 - accuracy: 0.8113 - val_loss: 0.4252 - val_accuracy: 0.7947\n",
            "Epoch 45/100\n",
            "141/141 [==============================] - 0s 3ms/step - loss: 0.4031 - accuracy: 0.8113 - val_loss: 0.4241 - val_accuracy: 0.7956\n",
            "Epoch 46/100\n",
            "141/141 [==============================] - 0s 3ms/step - loss: 0.4021 - accuracy: 0.8120 - val_loss: 0.4257 - val_accuracy: 0.7938\n",
            "Epoch 47/100\n",
            "141/141 [==============================] - 0s 3ms/step - loss: 0.4020 - accuracy: 0.8100 - val_loss: 0.4244 - val_accuracy: 0.7956\n",
            "Epoch 48/100\n",
            "141/141 [==============================] - 0s 3ms/step - loss: 0.4023 - accuracy: 0.8111 - val_loss: 0.4267 - val_accuracy: 0.7938\n",
            "Epoch 49/100\n",
            "141/141 [==============================] - 0s 3ms/step - loss: 0.4011 - accuracy: 0.8129 - val_loss: 0.4272 - val_accuracy: 0.7964\n",
            "Epoch 50/100\n",
            "141/141 [==============================] - 0s 2ms/step - loss: 0.4013 - accuracy: 0.8118 - val_loss: 0.4255 - val_accuracy: 0.7947\n",
            "Epoch 51/100\n",
            "141/141 [==============================] - 0s 3ms/step - loss: 0.4003 - accuracy: 0.8111 - val_loss: 0.4251 - val_accuracy: 0.7956\n",
            "Epoch 52/100\n",
            "141/141 [==============================] - 0s 3ms/step - loss: 0.4001 - accuracy: 0.8131 - val_loss: 0.4280 - val_accuracy: 0.7991\n",
            "Epoch 53/100\n",
            "141/141 [==============================] - 0s 3ms/step - loss: 0.4004 - accuracy: 0.8120 - val_loss: 0.4255 - val_accuracy: 0.7929\n",
            "Epoch 54/100\n",
            "141/141 [==============================] - 0s 3ms/step - loss: 0.4005 - accuracy: 0.8111 - val_loss: 0.4256 - val_accuracy: 0.7911\n",
            "Epoch 55/100\n",
            "141/141 [==============================] - 0s 3ms/step - loss: 0.3994 - accuracy: 0.8129 - val_loss: 0.4256 - val_accuracy: 0.7929\n",
            "Epoch 56/100\n",
            "141/141 [==============================] - 0s 3ms/step - loss: 0.3994 - accuracy: 0.8133 - val_loss: 0.4294 - val_accuracy: 0.7982\n",
            "Epoch 57/100\n",
            "141/141 [==============================] - 0s 3ms/step - loss: 0.3989 - accuracy: 0.8109 - val_loss: 0.4262 - val_accuracy: 0.7938\n",
            "Epoch 58/100\n",
            "141/141 [==============================] - 0s 3ms/step - loss: 0.3996 - accuracy: 0.8142 - val_loss: 0.4252 - val_accuracy: 0.7956\n",
            "Epoch 59/100\n",
            "141/141 [==============================] - 0s 3ms/step - loss: 0.3985 - accuracy: 0.8129 - val_loss: 0.4248 - val_accuracy: 0.7920\n",
            "Epoch 60/100\n",
            "141/141 [==============================] - 0s 3ms/step - loss: 0.3986 - accuracy: 0.8144 - val_loss: 0.4262 - val_accuracy: 0.7973\n",
            "Epoch 61/100\n",
            "141/141 [==============================] - 0s 3ms/step - loss: 0.3984 - accuracy: 0.8144 - val_loss: 0.4270 - val_accuracy: 0.7964\n",
            "Epoch 62/100\n",
            "141/141 [==============================] - 0s 3ms/step - loss: 0.3980 - accuracy: 0.8133 - val_loss: 0.4255 - val_accuracy: 0.7947\n",
            "Epoch 63/100\n",
            "141/141 [==============================] - 0s 3ms/step - loss: 0.3986 - accuracy: 0.8131 - val_loss: 0.4323 - val_accuracy: 0.7982\n",
            "Epoch 64/100\n",
            "141/141 [==============================] - 0s 3ms/step - loss: 0.3974 - accuracy: 0.8131 - val_loss: 0.4305 - val_accuracy: 0.7991\n",
            "Epoch 65/100\n",
            "141/141 [==============================] - 0s 3ms/step - loss: 0.3976 - accuracy: 0.8180 - val_loss: 0.4261 - val_accuracy: 0.7947\n",
            "Epoch 66/100\n",
            "141/141 [==============================] - 0s 3ms/step - loss: 0.3981 - accuracy: 0.8140 - val_loss: 0.4258 - val_accuracy: 0.7938\n",
            "Epoch 67/100\n",
            "141/141 [==============================] - 0s 2ms/step - loss: 0.3971 - accuracy: 0.8151 - val_loss: 0.4274 - val_accuracy: 0.7947\n",
            "Epoch 68/100\n",
            "141/141 [==============================] - 0s 3ms/step - loss: 0.3968 - accuracy: 0.8147 - val_loss: 0.4277 - val_accuracy: 0.7982\n",
            "Epoch 69/100\n",
            "141/141 [==============================] - 0s 3ms/step - loss: 0.3966 - accuracy: 0.8160 - val_loss: 0.4271 - val_accuracy: 0.7947\n",
            "Epoch 70/100\n",
            "141/141 [==============================] - 0s 2ms/step - loss: 0.3964 - accuracy: 0.8144 - val_loss: 0.4279 - val_accuracy: 0.7938\n",
            "Epoch 71/100\n",
            "141/141 [==============================] - 0s 3ms/step - loss: 0.3963 - accuracy: 0.8138 - val_loss: 0.4291 - val_accuracy: 0.7947\n",
            "Epoch 72/100\n",
            "141/141 [==============================] - 0s 2ms/step - loss: 0.3966 - accuracy: 0.8138 - val_loss: 0.4273 - val_accuracy: 0.7938\n",
            "Epoch 73/100\n",
            "141/141 [==============================] - 0s 3ms/step - loss: 0.3958 - accuracy: 0.8127 - val_loss: 0.4276 - val_accuracy: 0.7947\n",
            "Epoch 74/100\n",
            "141/141 [==============================] - 0s 3ms/step - loss: 0.3961 - accuracy: 0.8164 - val_loss: 0.4335 - val_accuracy: 0.7973\n",
            "Epoch 75/100\n",
            "141/141 [==============================] - 0s 2ms/step - loss: 0.3955 - accuracy: 0.8133 - val_loss: 0.4265 - val_accuracy: 0.7956\n",
            "Epoch 76/100\n",
            "141/141 [==============================] - 0s 2ms/step - loss: 0.3958 - accuracy: 0.8140 - val_loss: 0.4290 - val_accuracy: 0.7973\n",
            "Epoch 77/100\n",
            "141/141 [==============================] - 0s 3ms/step - loss: 0.3957 - accuracy: 0.8138 - val_loss: 0.4297 - val_accuracy: 0.7964\n",
            "Epoch 78/100\n",
            "141/141 [==============================] - 0s 2ms/step - loss: 0.3951 - accuracy: 0.8131 - val_loss: 0.4303 - val_accuracy: 0.7964\n",
            "Epoch 79/100\n",
            "141/141 [==============================] - 0s 2ms/step - loss: 0.3948 - accuracy: 0.8156 - val_loss: 0.4282 - val_accuracy: 0.7929\n",
            "Epoch 80/100\n",
            "141/141 [==============================] - 0s 3ms/step - loss: 0.3948 - accuracy: 0.8136 - val_loss: 0.4275 - val_accuracy: 0.7911\n",
            "Epoch 81/100\n",
            "141/141 [==============================] - 0s 2ms/step - loss: 0.3950 - accuracy: 0.8173 - val_loss: 0.4298 - val_accuracy: 0.7973\n",
            "Epoch 82/100\n",
            "141/141 [==============================] - 1s 4ms/step - loss: 0.3949 - accuracy: 0.8162 - val_loss: 0.4293 - val_accuracy: 0.8000\n",
            "Epoch 83/100\n",
            "141/141 [==============================] - 0s 2ms/step - loss: 0.3945 - accuracy: 0.8149 - val_loss: 0.4277 - val_accuracy: 0.7938\n",
            "Epoch 84/100\n",
            "141/141 [==============================] - 1s 4ms/step - loss: 0.3943 - accuracy: 0.8160 - val_loss: 0.4292 - val_accuracy: 0.7947\n",
            "Epoch 85/100\n",
            "141/141 [==============================] - 1s 6ms/step - loss: 0.3945 - accuracy: 0.8151 - val_loss: 0.4286 - val_accuracy: 0.7964\n",
            "Epoch 86/100\n",
            "141/141 [==============================] - 0s 3ms/step - loss: 0.3948 - accuracy: 0.8131 - val_loss: 0.4286 - val_accuracy: 0.7964\n",
            "Epoch 87/100\n",
            "141/141 [==============================] - 0s 3ms/step - loss: 0.3942 - accuracy: 0.8164 - val_loss: 0.4271 - val_accuracy: 0.7938\n",
            "Epoch 88/100\n",
            "141/141 [==============================] - 0s 3ms/step - loss: 0.3950 - accuracy: 0.8167 - val_loss: 0.4311 - val_accuracy: 0.7964\n",
            "Epoch 89/100\n",
            "141/141 [==============================] - 0s 3ms/step - loss: 0.3937 - accuracy: 0.8158 - val_loss: 0.4287 - val_accuracy: 0.7938\n",
            "Epoch 90/100\n",
            "141/141 [==============================] - 0s 3ms/step - loss: 0.3936 - accuracy: 0.8160 - val_loss: 0.4287 - val_accuracy: 0.7929\n",
            "Epoch 91/100\n",
            "141/141 [==============================] - 0s 3ms/step - loss: 0.3932 - accuracy: 0.8167 - val_loss: 0.4297 - val_accuracy: 0.7956\n",
            "Epoch 92/100\n",
            "141/141 [==============================] - 0s 3ms/step - loss: 0.3932 - accuracy: 0.8167 - val_loss: 0.4318 - val_accuracy: 0.7956\n",
            "Epoch 93/100\n",
            "141/141 [==============================] - 0s 3ms/step - loss: 0.3934 - accuracy: 0.8178 - val_loss: 0.4309 - val_accuracy: 0.7956\n",
            "Epoch 94/100\n",
            "141/141 [==============================] - 0s 2ms/step - loss: 0.3933 - accuracy: 0.8140 - val_loss: 0.4282 - val_accuracy: 0.7929\n",
            "Epoch 95/100\n",
            "141/141 [==============================] - 0s 3ms/step - loss: 0.3933 - accuracy: 0.8153 - val_loss: 0.4299 - val_accuracy: 0.7982\n",
            "Epoch 96/100\n",
            "141/141 [==============================] - 0s 3ms/step - loss: 0.3936 - accuracy: 0.8180 - val_loss: 0.4293 - val_accuracy: 0.7947\n",
            "Epoch 97/100\n",
            "141/141 [==============================] - 0s 3ms/step - loss: 0.3926 - accuracy: 0.8162 - val_loss: 0.4297 - val_accuracy: 0.7956\n",
            "Epoch 98/100\n",
            "141/141 [==============================] - 0s 3ms/step - loss: 0.3924 - accuracy: 0.8173 - val_loss: 0.4285 - val_accuracy: 0.7938\n",
            "Epoch 99/100\n",
            "141/141 [==============================] - 0s 3ms/step - loss: 0.3927 - accuracy: 0.8162 - val_loss: 0.4284 - val_accuracy: 0.7920\n",
            "Epoch 100/100\n",
            "141/141 [==============================] - 0s 3ms/step - loss: 0.3922 - accuracy: 0.8158 - val_loss: 0.4289 - val_accuracy: 0.7911\n"
          ]
        }
      ]
    },
    {
      "cell_type": "code",
      "source": [
        "from matplotlib import pyplot as plt\n",
        "\n",
        "plt.plot(history.history['loss'],'r',label='training loss')\n",
        "plt.plot(history.history['val_loss'],label='validation loss')\n",
        "plt.xlabel('# epochs')\n",
        "plt.ylabel('loss')\n",
        "plt.legend()\n",
        "plt.show()"
      ],
      "metadata": {
        "colab": {
          "base_uri": "https://localhost:8080/",
          "height": 279
        },
        "id": "HuiFNJXfgRfF",
        "outputId": "583ee2fe-2520-4a1b-bc64-3561e3d90bd3"
      },
      "execution_count": null,
      "outputs": [
        {
          "output_type": "display_data",
          "data": {
            "image/png": "[encoded data removed]",
            "text/plain": [
              "<Figure size 432x288 with 1 Axes>"
            ]
          },
          "metadata": {
            "needs_background": "light"
          }
        }
      ]
    },
    {
      "cell_type": "code",
      "source": [
        "plt.plot(history.history['accuracy'],'r',label='training accuracy')\n",
        "plt.plot(history.history['val_accuracy'],label='validation accuracy')\n",
        "plt.xlabel('# epochs')\n",
        "plt.ylabel('loss')\n",
        "plt.legend()\n",
        "plt.show()"
      ],
      "metadata": {
        "colab": {
          "base_uri": "https://localhost:8080/",
          "height": 279
        },
        "id": "Qlrehaq7hiMS",
        "outputId": "30d4f365-6e38-4f7b-e4f0-e41b49919199"
      },
      "execution_count": null,
      "outputs": [
        {
          "output_type": "display_data",
          "data": {
            "image/png": "[encoded data removed]",
            "text/plain": [
              "<Figure size 432x288 with 1 Axes>"
            ]
          },
          "metadata": {
            "needs_background": "light"
          }
        }
      ]
    },
    {
      "cell_type": "code",
      "source": [
        "model.evaluate(x_test,y_test)"
      ],
      "metadata": {
        "colab": {
          "base_uri": "https://localhost:8080/"
        },
        "id": "oPZMBW_Dhmw8",
        "outputId": "e3906652-2a6d-4c0e-ec45-848ebee8f34e"
      },
      "execution_count": null,
      "outputs": [
        {
          "output_type": "stream",
          "name": "stdout",
          "text": [
            "44/44 [==============================] - 0s 1ms/step - loss: 0.4241 - accuracy: 0.8131\n"
          ]
        },
        {
          "output_type": "execute_result",
          "data": {
            "text/plain": [
              "[0.42413681745529175, 0.813077449798584]"
            ]
          },
          "metadata": {},
          "execution_count": 78
        }
      ]
    },
    {
      "cell_type": "code",
      "source": [
        "yp=model.predict(x_test)\n",
        "yp[:5]"
      ],
      "metadata": {
        "colab": {
          "base_uri": "https://localhost:8080/"
        },
        "id": "G1yyVZpyn-cK",
        "outputId": "22d924bc-7168-4fc9-9110-0e014691519a"
      },
      "execution_count": null,
      "outputs": [
        {
          "output_type": "execute_result",
          "data": {
            "text/plain": [
              "array([[0.0146822 ],\n",
              "       [0.02148515],\n",
              "       [0.05883679],\n",
              "       [0.06099001],\n",
              "       [0.12947932]], dtype=float32)"
            ]
          },
          "metadata": {},
          "execution_count": 79
        }
      ]
    },
    {
      "cell_type": "code",
      "source": [
        "y_pred=[]\n",
        "\n",
        "for element in yp:\n",
        "  if element >0.5:\n",
        "    y_pred.append(1)\n",
        "  if element <0.5:\n",
        "    y_pred.append(0)\n",
        "\n",
        "y_pred[:5]"
      ],
      "metadata": {
        "colab": {
          "base_uri": "https://localhost:8080/"
        },
        "id": "hLKjbYPynp_H",
        "outputId": "c64bd1f7-3c00-4887-89fb-a46f218d5b02"
      },
      "execution_count": null,
      "outputs": [
        {
          "output_type": "execute_result",
          "data": {
            "text/plain": [
              "[0, 0, 0, 0, 0]"
            ]
          },
          "metadata": {},
          "execution_count": 80
        }
      ]
    },
    {
      "cell_type": "code",
      "source": [
        "from sklearn.metrics import confusion_matrix, classification_report\n",
        "print(classification_report(y_test,y_pred))"
      ],
      "metadata": {
        "colab": {
          "base_uri": "https://localhost:8080/"
        },
        "id": "HCzaZu4ymaJG",
        "outputId": "1f0d7790-9384-4392-91ee-327a057925b2"
      },
      "execution_count": null,
      "outputs": [
        {
          "output_type": "stream",
          "name": "stdout",
          "text": [
            "              precision    recall  f1-score   support\n",
            "\n",
            "           0       0.85      0.90      0.87      1017\n",
            "           1       0.69      0.59      0.64       390\n",
            "\n",
            "    accuracy                           0.81      1407\n",
            "   macro avg       0.77      0.75      0.76      1407\n",
            "weighted avg       0.81      0.81      0.81      1407\n",
            "\n"
          ]
        }
      ]
    },
    {
      "cell_type": "code",
      "source": [],
      "metadata": {
        "id": "i6_-ttv5pByO"
      },
      "execution_count": null,
      "outputs": []
    }
  ]
}